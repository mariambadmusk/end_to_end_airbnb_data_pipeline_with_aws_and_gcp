{
	"cells": [
		{
			"cell_type": "code",
			"execution_count": null,
			"metadata": {
				"tags": [],
				"trusted": true
			},
			"outputs": [],
			"source": [
				"#import necessary dependencies\n",
				"from pyspark.context import SparkContext\n",
				"from awsglue.context import GlueContext\n",
				"import boto3\n",
				"import io\n",
				"import sys\n",
				"import os\n",
				"import random\n",
				"from pyspark.sql import SparkSession, Row\n",
				"import pyspark.sql.functions as F\n",
				"from pyspark.sql.types import StringType, StructType, StructField\n",
				"from pyspark.sql.window import Window\n",
				"from awsglue.transforms import *\n",
				"from awsglue.transforms import ApplyMapping\n",
				"from awsglue.dynamicframe import DynamicFrame"
			]
		},
		{
			"cell_type": "code",
			"execution_count": null,
			"metadata": {
				"tags": [],
				"trusted": true
			},
			"outputs": [],
			"source": [
				"#initialize spark context and glue context\n",
				"sc = SparkContext()\n",
				"glueContext = GlueContext(sc)\n",
				"spark = glueContext.spark_session"
			]
		},
		{
			"cell_type": "code",
			"execution_count": null,
			"metadata": {
				"tags": [],
				"trusted": true
			},
			"outputs": [],
			"source": [
				"# create dynamicframes \n",
				"def create_dynamic_frame_from_csv(file):\n",
				"    \"\"\"\n",
				"    This function creates a dynamic frame from a CSV file\n",
				"  \n",
				"    Parameter(csv file): The CSV file to create a dynamic frame\n",
				"    \n",
				"    Returns: The dynamic frame created from the CSV file\n",
				"    \"\"\"\n",
				"\n",
				"    dynamic_frame = glueContext.create_dynamic_frame.from_options(\n",
				"        format_options={\"withHeader\": True, \"separator\": \",\"},\n",
				"        connection_type=\"s3\",\n",
				"        format=\"csv\",\n",
				"        connection_options={\"paths\": [file], \"recurse\": True},\n",
				"        transformation_ctx=\"airbnbETLpipeline\"\n",
				"  )\n",
				"    return dynamic_frame"
			]
		},
		{
			"cell_type": "code",
			"execution_count": null,
			"metadata": {
				"tags": [],
				"trusted": true
			},
			"outputs": [],
			"source": [
				"# create dynamicframes for all the cities\n",
				"dubaiData = create_dynamic_frame_from_csv(\"s3://airbnb-listings-data/raw-data/DubaiData_transalated.csv\")\n",
				"losAngelesData=  create_dynamic_frame_from_csv('s3://airbnb-listings-data/raw-data/LAData.csv')\n",
				"londonData  = create_dynamic_frame_from_csv('s3://airbnb-listings-data/raw-data/LondonData.csv')\n",
				"miamiData = create_dynamic_frame_from_csv('s3://airbnb-listings-data/raw-data/MiamiData.csv')\n",
				"newYorkCityData = create_dynamic_frame_from_csv('s3://airbnb-listings-data/raw-data/NYCData.csv')\n",
				"sanFranciscoData = create_dynamic_frame_from_csv('s3://airbnb-listings-data/raw-data/SanFransiscoData.csv')\n",
				"sydneyData = create_dynamic_frame_from_csv('s3://airbnb-listings-data/raw-data/SydneyData.csv')\n",
				"tokyoData =  create_dynamic_frame_from_csv('s3://airbnb_listings-bucket/raw_data/TokyoData_with_zipcodes.csv')\n",
				"torontoData  = create_dynamic_frame_from_csv('s3://airbnb_listings-bucket/raw_data/TorontoData_with_zipcodes.csv')"
			]
		},
		{
			"cell_type": "code",
			"execution_count": null,
			"metadata": {},
			"outputs": [],
			"source": [
				"#convert dynamicframe to dataframe and check the schema to map the columns\n",
				"dubaiData.printSchema()"
			]
		},
		{
			"cell_type": "code",
			"execution_count": null,
			"metadata": {
				"tags": [],
				"trusted": true
			},
			"outputs": [],
			"source": [
				"# create a list of all the dynamic frames\n",
				"mapped_data = [\n",
				"    (\"Listing Title\", \"string\", \"listingTitle\", \"string\"),\n",
				"    (\"Property Type\", \"string\", \"propertyType\", \"string\"),\n",
				"    (\"Listing Type\", \"string\", \"listingType\", \"string\"),\n",
				"    (\"Created Date\", \"string\", \"createdDate\", \"string\"),\n",
				"    (\"Last Scraped Date\", \"string\", \"lastScrapedDate\", \"string\"),\n",
				"    (\"Country\", \"string\", \"country\", \"string\"),\n",
				"    (\"State\", \"string\", \"state\", \"string\"),\n",
				"    (\"City\", \"string\", \"city\", \"string\"),\n",
				"    (\"Zipcode\", \"string\", \"zipcode\", \"string\"),\n",
				"    (\"Longitude\", \"string\", \"longitude\", \"float\"),  \n",
				"    (\"guest_controls\", \"string\", \"guestControls\", \"string\"), \n",
				"    (\"Airbnb Location Rating\", \"string\", \"airbnbLocationRating\", \"int\"), \n",
				"    (\"Currency Native\", \"string\", \"currencyNative\", \"string\"),\n",
				"    (\"Average Daily Rate (Native)\", \"float\", \"averageDailyRateNative\", \"float\"), \n",
				"    (\"Average Daily Rate (USD)\", \"float\", \"averageDailyRateUSD\", \"float\"), \n",
				"    (\"Count Blocked Days LTM\", \"string\", \"countBlockedDaysLTM\", \"int\"), \n",
				"    (\"Bedrooms\", \"string\", \"bedrooms\", \"int\"), \n",
				"    (\"Airbnb Property ID\", \"string\", \"airbnbPropertyID\", \"string\"), \n",
				"    (\"Check-in Time\", \"string\", \"checkInTime\", \"string\"), \n",
				"    (\"Bathrooms\", \"string\", \"bathrooms\", \"int\"), \n",
				"    (\"Airbnb Communication Rating\", \"string\", \"airbnbCommunicationRating\", \"int\"),\n",
				"    (\"Airbnb Host ID\", \"string\", \"airbnbHostID\", \"string\"),\n",
				"    (\"Pets Allowed\", \"string\", \"petsAllowed\", \"string\"),\n",
				"    (\"Extra People Fee(Native)\", \"string\", \"extraPeopleFeeNative\", \"float\"),\n",
				"    (\"License\", \"string\", \"license\", \"string\"),\n",
				"    (\"Instantbook Enabled\", \"string\", \"instantbookEnabled\", \"string\"),\n",
				"    (\"Amenities\", \"string\", \"amenities\", \"string\"),\n",
				"    (\"Overall Rating\", \"string\", \"overallRating\", \"float\"),\n",
				"    (\"Airbnb Accuracy Rating\", \"string\", \"airbnbAccuracyRating\", \"int\"),\n",
				"    (\"Cancellation Policy\", \"string\", \"cancellationPolicy\", \"string\"),\n",
				"    (\"Cleaning Fee (USD)\", \"string\", \"cleaningFeeUSD\", \"float\"),\n",
				"    (\"Listing URL\", \"string\", \"listingURL\", \"string\"),\n",
				"    (\"instant_bookable\", \"string\", \"instantBookable\", \"string\"),\n",
				"    (\"picture_url\", \"string\", \"pictureUrl\", \"string\"),\n",
				"    (\"Latitude\", \"string\", \"latitude\", \"float\"),\n",
				"    (\"Count Available Days LTM\", \"int\", \"countavailableDaysLTM\", \"int\"),\n",
				"    (\"Count Reservation Days LTM\", \"int\", \"countReservationDaysLTM\", \"int\"),\n",
				"    (\"Number of Reviews\", \"string\", \"numberofReviews\", \"int\"),\n",
				"    (\"Checkout Time\", \"string\", \"checkoutTime\", \"string\"),\n",
				"    (\"Airbnb Value Rating\", \"string\", \"airbnbValueRating\", \"int\"),\n",
				"    (\"Extra People Fee (USD)\", \"string\", \"extraPeopleFeeUSD\", \"float\"),\n",
				"    (\"Airbnb Checkin Rating\", \"string\", \"airbnbCheckinRating\", \"int\"),\n",
				"    (\"Airbnb Superhost\", \"string\", \"airbnbSuperhost\", \"string\"),\n",
				"    (\"Exact Location\", \"string\", \"exactLocation\", \"string\"),\n",
				"    (\"Host Listing Count\", \"string\", \"hostListingCount\", \"int\"),\n",
				"    (\"Minimum Stay\", \"string\", \"minimumStay\", \"int\"),\n",
				"    (\"Occupancy Rate LTM\", \"string\", \"occupancyRateLTM\", \"int\"),\n",
				"    (\"Max Guests\", \"string\", \"maxGuests\", \"int\"),\n",
				"    (\"Number of Bookings LTM\", \"string\", \"numberOfBookingsLTM\", \"int\"),\n",
				"    (\"Number of Bookings LTM - Number of observed month\", \"string\", \"numberOfBookingsLTMObservedMonth\", \"int\"),\n",
				"    (\"Airbnb Cleanliness Rating\", \"string\", \"airbnbCleanlinessRating\", \"int\"),\n",
				"    (\"Annual Revenue LTM (USD)\", \"string\", \"annualRevenueLTMUSD\", \"float\"), \n",
				"    (\"Annual Revenue LTM (Native)\", \"string\", \"annualRevenueLTMNative\", \"float\"), \n",
				"]\n"
			]
		},
		{
			"cell_type": "code",
			"execution_count": null,
			"metadata": {
				"tags": [],
				"trusted": true
			},
			"outputs": [],
			"source": [
				"def applymappings(df, mapped_data, transform_ctx_tag):\n",
				"    \"\"\" \n",
				"    This function applies mappings to the dataframe\n",
				"\n",
				"    Parameters:\n",
				"    df: The dataframe to apply mappings to\n",
				"    mapped_data: The mapping data\n",
				"    transform_ctx_tag: The transformation context tag\n",
				"    Returns: The mapped dataframe\n",
				"    \"\"\"\n",
				"    mapped_df = ApplyMapping.apply(\n",
				"        frame = df,\n",
				"        mappings = mapped_data,\n",
				"        transformation_ctx = transform_ctx_tag\n",
				"    )\n",
				"    \n",
				"    return mapped_df"
			]
		},
		{
			"cell_type": "code",
			"execution_count": null,
			"metadata": {
				"tags": [],
				"trusted": true
			},
			"outputs": [],
			"source": [
				"# apply mappings to all the cities\n",
				"mapped_losAngelesData = applymappings(losAngelesData, mapped_data, \"mappedLosAngelesData\")\n",
				"mapped_londonData = applymappings(londonData, mapped_data, \"mappedLondonData\")\n",
				"mapped_newYorkCityData = applymappings(newYorkCityData, mapped_data, \"mappedNewYorkCityData\")\n",
				"mapped_sanFranciscoData = applymappings(sanFranciscoData, mapped_data, \"mappedSanFranciscoData\")\n",
				"mapped_sydneyData = applymappings(sydneyData, mapped_data, \"mappedSydneyData\")\n",
				"mapped_tokyoData = applymappings(tokyoData, mapped_data, \"mappedTokyoData\")"
			]
		},
		{
			"cell_type": "code",
			"execution_count": null,
			"metadata": {
				"tags": [],
				"trusted": true
			},
			"outputs": [],
			"source": [
				"# Apply mapping fucntions to miamiData and add column differences\n",
				"mapped_data_copy_miami = mapped_data.copy()\n",
				"\n",
				"mapped_data_copy_miami.extend([(\"Neighbourhood\", \"string\", \"neighbourhood\", \"string\"), \n",
				"                           (\"Metropolitan Statistical Area\", \"string\", \"metropolitan_statistical_area'\", \"string\"),\n",
				"                           (\"Last Host Count Updated Date\", \"string\", \"last_host_count_updated_date\", \"string\")])\n",
				"\n",
				"mapped_miamiData = applymappings(miamiData, mapped_data_copy_miami, \"mappedMiamiData\")"
			]
		},
		{
			"cell_type": "code",
			"execution_count": null,
			"metadata": {
				"tags": [],
				"trusted": true
			},
			"outputs": [],
			"source": [
				"# Apply mapping fucntions to dubaiData and add column differences\n",
				"mapped_data_copy_dubai = mapped_data.copy()\n",
				"\n",
				"mapped_data_copy_dubai.remove((\"State\", \"string\", \"state\", \"string\"))\n",
				"\n",
				"mapped_dubaiData = applymappings(dubaiData, mapped_data_copy_dubai, 'mappedDubaiData')"
			]
		},
		{
			"cell_type": "code",
			"execution_count": null,
			"metadata": {
				"tags": [],
				"trusted": true
			},
			"outputs": [],
			"source": [
				"# Convert dynamic frame to spark dataframe\n",
				"losAngelesData_df = mapped_losAngelesData.toDF()\n",
				"londonData_df = mapped_londonData.toDF() \n",
				"miamiData_df = mapped_miamiData.toDF() \n",
				"newYorkCityData_df = mapped_newYorkCityData.toDF() \n",
				"sanFranciscoData_df = mapped_sanFranciscoData.toDF() \n",
				"sydneyData_df = mapped_sydneyData.toDF() \n",
				"tokyoData_df = mapped_tokyoData.toDF()\n",
				"dubaiData_df = mapped_dubaiData.toDF() \n",
				"torontoData_df = mapped_dubaiData.toDF()"
			]
		},
		{
			"cell_type": "code",
			"execution_count": null,
			"metadata": {
				"trusted": true
			},
			"outputs": [],
			"source": [
				"# store data in dictionary\n",
				"airbnb_listings_dict = {\n",
				"    \"dubaiData\": dubaiData_df,\n",
				"    \"losAngelesData\": losAngelesData_df,\n",
				"    \"londonData\": londonData_df,\n",
				"    \"miamiData\": miamiData_df,\n",
				"    \"newYorkCityData\": newYorkCityData_df,\n",
				"    \"sanFranciscoData\": sanFranciscoData_df,\n",
				"    \"sydneyData\": sydneyData_df,\n",
				"    \"tokyoData\": tokyoData_df,\n",
				"    \"torontoData\": torontoData_df\n",
				"}"
			]
		},
		{
			"cell_type": "code",
			"execution_count": null,
			"metadata": {
				"tags": [],
				"trusted": true
			},
			"outputs": [],
			"source": [
				"# show the first 10 rows of the dubaiData\n",
				"airbnb_listings_dict[\"dubaiData\"].show(10)"
			]
		},
		{
			"cell_type": "code",
			"execution_count": null,
			"metadata": {
				"trusted": true
			},
			"outputs": [],
			"source": [
				"# Find common columns across all the dataframes \n",
				"unique_columns = set(airbnb_listings_dict['miamiData'].columns).intersection(\n",
				"    set(airbnb_listings_dict['dubaiData'].columns), \n",
				"    set(airbnb_listings_dict['losAngelesData'].columns),\n",
				"    set(airbnb_listings_dict['londonData'].columns),\n",
				"    set(airbnb_listings_dict['newYorkCityData'].columns),\n",
				"    set(airbnb_listings_dict['sanFranciscoData'].columns),\n",
				"    set(airbnb_listings_dict['sydneyData'].columns),\n",
				"    set(airbnb_listings_dict['tokyoData'].columns),\n",
				"    set(airbnb_listings_dict['torontoData'].columns)\n",
				")\n",
				"print(f'{unique_columns}\\n Number of columns in common: {len(unique_columns)}')"
			]
		},
		{
			"cell_type": "code",
			"execution_count": null,
			"metadata": {
				"trusted": true
			},
			"outputs": [],
			"source": [
				"# Find the column differences in comparison to miami dynamic frame with thighest number of columns\n",
				"print(f\"miami_dubai_column_differences: {set(airbnb_listings_dict['miamiData'].columns).difference(set(airbnb_listings_dict['dubaiData'].columns))}\")"
			]
		},
		{
			"cell_type": "code",
			"execution_count": null,
			"metadata": {
				"tags": [],
				"trusted": true
			},
			"outputs": [],
			"source": [
				"# Find the column differences in comparison to miami dynamic frame with thighest number of columns\n",
				"print(f\"miami_toronto_column_differences: {set(airbnb_listings_dict['miamiData'].columns).difference(set(airbnb_listings_dict['torontoData'].columns))}\")"
			]
		},
		{
			"cell_type": "code",
			"execution_count": null,
			"metadata": {
				"tags": [],
				"trusted": true
			},
			"outputs": [],
			"source": [
				"# Find the column differences in comparison to miami dynamic frame with thighest number of columns\n",
				"print(f\"miami_la_column_differences: {set(airbnb_listings_dict['miamiData'].columns).difference(set(airbnb_listings_dict['losAngelesData'].columns))}\")"
			]
		},
		{
			"cell_type": "code",
			"execution_count": null,
			"metadata": {
				"tags": [],
				"trusted": true
			},
			"outputs": [],
			"source": [
				"print(f\"miami_london_column_differences: {set(airbnb_listings_dict['miamiData'].columns).difference(set(airbnb_listings_dict['londonData'].columns))}\")"
			]
		},
		{
			"cell_type": "code",
			"execution_count": null,
			"metadata": {
				"tags": [],
				"trusted": true
			},
			"outputs": [],
			"source": [
				"print(f\"miami_nyc_column_differences: {set(airbnb_listings_dict['miamiData'].columns).difference(set(airbnb_listings_dict['newYorkCityData'].columns))}\")"
			]
		},
		{
			"cell_type": "code",
			"execution_count": null,
			"metadata": {
				"tags": [],
				"trusted": true
			},
			"outputs": [],
			"source": [
				"print(f\"miami_sanfransisco_column_differences: {set(airbnb_listings_dict['miamiData'].columns).difference(set(airbnb_listings_dict['sanFranciscoData'].columns))}\")"
			]
		},
		{
			"cell_type": "code",
			"execution_count": null,
			"metadata": {
				"tags": [],
				"trusted": true
			},
			"outputs": [],
			"source": [
				"print(f\"miami_sydney_column_differences: {set(airbnb_listings_dict['miamiData'].columns).difference(set(airbnb_listings_dict['sydneyData'].columns))}\")"
			]
		},
		{
			"cell_type": "code",
			"execution_count": null,
			"metadata": {
				"tags": [],
				"trusted": true
			},
			"outputs": [],
			"source": [
				"print(f\"miami_tokyo_column_differences: {set(airbnb_listings_dict['miamiData'].columns).difference(set(airbnb_listings_dict['tokyoData'].columns))}\")"
			]
		},
		{
			"cell_type": "code",
			"execution_count": null,
			"metadata": {
				"trusted": true
			},
			"outputs": [],
			"source": [
				"# Find the number of rows and columns in raw_data and put the results in a dataframe\n",
				"def get_shape(listings_dict):\n",
				"    \"\"\"\n",
				"    This function returns the number of rows and columns in the dataframes\n",
				"\n",
				"    Parameters:\n",
				"    listings_dict: The dictionary of dataframes\n",
				"\n",
				"    Returns: A list of tuples containing the dataframe name, number of rows and number of columns\n",
				"    \"\"\"\n",
				"    \n",
				"    df_summary = []\n",
				"    \n",
				"    for key, value in listings_dict.items():\n",
				"        rows = value.count()\n",
				"        cols = len(value.columns)\n",
				"        df_summary.append((key, rows, cols))\n",
				"        \n",
				"    return df_summary\n",
				"       "
			]
		},
		{
			"cell_type": "code",
			"execution_count": null,
			"metadata": {
				"trusted": true
			},
			"outputs": [],
			"source": [
				"# Find the number of rows and columns in raw_data and put the results in a dataframe\n",
				"summary_list = get_shape(airbnb_listings_dict)"
			]
		},
		{
			"cell_type": "code",
			"execution_count": null,
			"metadata": {
				"tags": [],
				"trusted": true
			},
			"outputs": [],
			"source": [
				"# Create a dataframe from the summary list\n",
				"raw_summary_df = spark.createDataFrame(summary_list, [\"city\", \"num_rows\", \"num_columns\"])"
			]
		},
		{
			"cell_type": "code",
			"execution_count": null,
			"metadata": {
				"tags": [],
				"trusted": true
			},
			"outputs": [],
			"source": [
				"# Show the summary dataframe\n",
				"raw_summary_df.show()"
			]
		},
		{
			"cell_type": "code",
			"execution_count": null,
			"metadata": {
				"trusted": true
			},
			"outputs": [],
			"source": [
				"# Drop Neighbourhood, Last Host Count Updated Date,Metropolitan Statistical Area columns\n",
				"airbnb_listings_dict['miamiData'] = airbnb_listings_dict['miamiData'].drop('Neighbourhood', 'Last Host Count Updated Date','Metropolitan Statistical Area')"
			]
		},
		{
			"cell_type": "code",
			"execution_count": null,
			"metadata": {
				"trusted": true
			},
			"outputs": [],
			"source": [
				"# Drop last scraped data\n",
				"def remove_last_scraped_data(df, df_name):\n",
				"    df = df.drop('Last Scraped Date')\n",
				"    print(f'{df_name} Last Scraped Date column dropped')\n",
				"\n",
				"    return df"
			]
		},
		{
			"cell_type": "code",
			"execution_count": null,
			"metadata": {
				"trusted": true
			},
			"outputs": [],
			"source": [
				"# Remove last scraped data from all the dataframes\n",
				"for df_name, df in airbnb_listings_dict .items():\n",
				"    airbnb_listings_dict[df_name] = remove_last_scraped_data(df, df_name)"
			]
		},
		{
			"cell_type": "code",
			"execution_count": null,
			"metadata": {
				"trusted": true
			},
			"outputs": [],
			"source": [
				"# Drop duplicates\n",
				"def drop_duplicates(df):\n",
				"    df = df.dropDuplicates()\n",
				"    print(\"duplicates dropped\")\n",
				"    return df"
			]
		},
		{
			"cell_type": "code",
			"execution_count": null,
			"metadata": {
				"trusted": true
			},
			"outputs": [],
			"source": [
				"# Drop duplicates from all the dataframes\n",
				"for df_name, df in airbnb_listings_dict.items():\n",
				"    airbnb_listings_dict[df_name] = drop_duplicates(df)"
			]
		},
		{
			"cell_type": "code",
			"execution_count": null,
			"metadata": {
				"trusted": true
			},
			"outputs": [],
			"source": [
				"# Define emojis in unicodes \n",
				"emoji_patterns = re.compile(\"(?u)[\"\n",
				"        u\"\\U0001F600-\\U0001F64F\"  # emoticons\n",
				"        u\"\\U0001F300-\\U0001F5FF\"  # symbols & pictographs\n",
				"        u\"\\U0001F680-\\U0001F6FF\"  # transport & map symbols\n",
				"        u\"\\U0001F1E0-\\U0001F1FF\"  # flags (iOS)\n",
				"        u\"\\U00002700-\\U000027BF\"  # Dingbats\n",
				"        u\"\\U00002600-\\U000026FF\"  # Miscellaneous Symbols\n",
				"        u\"\\U00002B00-\\U00002BFF\"  # Miscellaneous Symbols and Arrows\n",
				"        u\"\\U0001F100-\\U0001F1FF\"  # Enclosed Alphanumeric Supplement\n",
				"        u\"\\U0001F200-\\U0001F2FF\"  # Enclosed Ideographic Supplement\n",
				"        u\"\\U0001F900-\\U0001F9FF\"  # Supplemental Symbols and Pictographs\n",
				"        u\" \\U000025A0-\\U000025FF\" # Geometric Shapes\n",
				"         \"]+\")"
			]
		},
		{
			"cell_type": "code",
			"execution_count": null,
			"metadata": {
				"trusted": true
			},
			"outputs": [],
			"source": [
				"def remove_emojis(text):\n",
				"    \"\"\"\n",
				"    This function removes emojis from text\n",
				"\n",
				"    Parameters:\n",
				"    text: The text to remove emojis from\n",
				"\n",
				"    Returns: The text with emojis removed\n",
				"    \"\"\"\n",
				"    if isinstance(text, str):\n",
				"        return emoji_patterns.sub(' ', text)\n",
				"    else:\n",
				"        return text"
			]
		},
		{
			"cell_type": "code",
			"execution_count": null,
			"metadata": {
				"tags": [],
				"trusted": true
			},
			"outputs": [],
			"source": [
				"# create a udf for remove emoji\n",
				"remove_emoji_udf = F.udf(remove_emojis)"
			]
		},
		{
			"cell_type": "code",
			"execution_count": null,
			"metadata": {
				"trusted": true
			},
			"outputs": [],
			"source": [
				"# Function to remove emojis from all the dataframes\n",
				"def remove_emojis_from(df):\n",
				"    \"\"\"\n",
				"    This function removes emojis from all the columns in a dataframe\n",
				"\n",
				"    Parameters:\n",
				"    df: The dataframe to remove emojis from\n",
				"\n",
				"    Returns: The dataframe with emojis removed\n",
				"    \"\"\"\n",
				"    for col_name in df.columns:\n",
				"        df = df.withColumn(col_name, remove_emoji_udf(F.col(col_name)))\n",
				"    return df"
			]
		},
		{
			"cell_type": "code",
			"execution_count": null,
			"metadata": {
				"trusted": true
			},
			"outputs": [],
			"source": [
				"# Remove emojis from all the dataframes\n",
				"airbnb_listings_dict['tokyoData'] = remove_emojis_from(airbnb_listings_dict['tokyoData'])"
			]
		},
		{
			"cell_type": "code",
			"execution_count": null,
			"metadata": {
				"trusted": true
			},
			"outputs": [],
			"source": [
				"airbnb_listings_dict['dubaiData'] = remove_emojis_from(airbnb_listings_dict['dubaiData'])"
			]
		},
		{
			"cell_type": "code",
			"execution_count": null,
			"metadata": {
				"trusted": true
			},
			"outputs": [],
			"source": [
				"airbnb_listings_dict['losAngelesData'] = remove_emojis_from(airbnb_listings_dict['losAngelesData'])"
			]
		},
		{
			"cell_type": "code",
			"execution_count": null,
			"metadata": {
				"trusted": true
			},
			"outputs": [],
			"source": [
				"airbnb_listings_dict['londonData'] = remove_emojis_from(airbnb_listings_dict['londonData'])"
			]
		},
		{
			"cell_type": "code",
			"execution_count": null,
			"metadata": {
				"trusted": true
			},
			"outputs": [],
			"source": [
				"airbnb_listings_dict['miamiData'] = remove_emojis_from(airbnb_listings_dict['miamiData'])"
			]
		},
		{
			"cell_type": "code",
			"execution_count": null,
			"metadata": {
				"tags": [],
				"trusted": true
			},
			"outputs": [],
			"source": [
				"airbnb_listings_dict['newYorkCityData'] = remove_emojis_from(airbnb_listings_dict['newYorkCityData'])"
			]
		},
		{
			"cell_type": "code",
			"execution_count": null,
			"metadata": {
				"trusted": true
			},
			"outputs": [],
			"source": [
				"airbnb_listings_dict['sanFranciscoData'] = remove_emojis_from(airbnb_listings_dict['sanFranciscoData'])"
			]
		},
		{
			"cell_type": "code",
			"execution_count": null,
			"metadata": {
				"trusted": true
			},
			"outputs": [],
			"source": [
				"airbnb_listings_dict['sydneyData'] = remove_emojis_from(airbnb_listings_dict['sydneyData'])"
			]
		},
		{
			"cell_type": "code",
			"execution_count": null,
			"metadata": {
				"tags": [],
				"trusted": true
			},
			"outputs": [],
			"source": [
				"airbnb_listings_dict['torontoData'] = remove_emojis_from(airbnb_listings_dict['torontoData'])"
			]
		},
		{
			"cell_type": "code",
			"execution_count": null,
			"metadata": {
				"trusted": true
			},
			"outputs": [],
			"source": [
				"def standardised_columns(df, country, city= None, state=None, currency_native=None):\n",
				"    \"\"\"\n",
				"    This function standardises the columns in the dataframe\n",
				"\n",
				"    Parameters:\n",
				"    df: The dataframe to standardise columns\n",
				"    country: The country to add to the dataframe\n",
				"    city: The city to add to the dataframe\n",
				"    state: The state to add to the dataframe\n",
				"    currency_native: The currency native to add to the dataframe\n",
				"\n",
				"    Returns: The dataframe with standardised columns\n",
				"    \"\"\" \n",
				"    df = df.withColumn('country', F.lit(country))\n",
				"    if city is not None:\n",
				"        df = df.withColumn('city', F.lit(city))\n",
				"    if state is not None:\n",
				"        df = df.withColumn('state', F.lit(state))\n",
				"    if currency_native is not None:\n",
				"        df = df.withColumn('currency_native', F.lit(currency_native))\n",
				"    return df"
			]
		},
		{
			"cell_type": "code",
			"execution_count": null,
			"metadata": {
				"trusted": true
			},
			"outputs": [],
			"source": [
				"# Standardise columns for all the dataframes\n",
				"standardised_columns(df=airbnb_listings_dict['dubaiData'], country = 'AE', city = 'Dubai', state = 'Dubai', currency_native= 'AED' )\n",
				"standardised_columns(df=airbnb_listings_dict['losAngelesData'], country = 'US', state = 'Los Angeles', currency_native= 'USD')\n",
				"standardised_columns(df=airbnb_listings_dict['londonData'],  country = 'GB', state = 'UK',  currency_native= 'GBP')\n",
				"standardised_columns(df=airbnb_listings_dict['miamiData'], country = 'US',state = 'Florida',  currency_native= 'GBP' )\n",
				"standardised_columns(df=airbnb_listings_dict['newYorkCityData'], country = 'US',  currency_native= 'USD' )\n",
				"standardised_columns(df=airbnb_listings_dict['sanFranciscoData'],  country = 'US', state = 'California', city = 'San Francisco', currency_native= 'USD' )\n",
				"standardised_columns(df=airbnb_listings_dict['sydneyData'], country = 'AU', state = 'New South Wales', currency_native= 'AUD' )\n",
				"standardised_columns(df=airbnb_listings_dict['tokyoData'], country = 'JP', state = 'Tokyo', currency_native= 'JPY' )\n",
				"standardised_columns(df=airbnb_listings_dict['torontoData'],country = 'CA', state = 'Ontario', currency_native= 'CAD' )"
			]
		},
		{
			"cell_type": "code",
			"execution_count": null,
			"metadata": {
				"tags": [],
				"trusted": true
			},
			"outputs": [],
			"source": [
				"# confirm the number of rows and columns after updating the columns\n",
				"summary_list = get_shape(airbnb_listings_dict)\n",
				"summary_df = spark.createDataFrame(summary_list, [\"city\", \"num_rows\", \"num_columns\"])"
			]
		},
		{
			"cell_type": "code",
			"execution_count": null,
			"metadata": {
				"tags": [],
				"trusted": true
			},
			"outputs": [],
			"source": [
				"# Show the summary dataframe\n",
				"summary_df.show()"
			]
		},
		{
			"cell_type": "code",
			"execution_count": null,
			"metadata": {
				"trusted": true
			},
			"outputs": [],
			"source": [
				"# create new ID columns for dimension tables\n",
				"def create_id_columns(df_name, df):\n",
				"  \"\"\"\n",
				"  This function creates new ID columns for the dataframe\n",
				"\n",
				"  Parameters:\n",
				"  df_name: The name of the dataframe\n",
				"  df: The dataframe to create new ID columns\n",
				"\n",
				"  Returns: The dataframe with new ID columns\n",
				"  \"\"\"\n",
				"\n",
				"  prefix = df_name[:3].upper()\n",
				"\n",
				"  df = df.withColumn(\"monotonically_increasing_id\", F.monotonically_increasing_id()+ 1)\n",
				"  window_spec = Window.orderBy(\"monotonically_increasing_id\")\n",
				"  df = df.withColumn(\"listingId\", F.concat_ws('', F.lit(prefix), F.lit('LIS' ), F.row_number().over(window_spec).cast(StringType())))\n",
				"  df = df.withColumn(\"amenitiesId\", F.concat_ws('', F.lit(prefix), F.lit('AMT'), F.row_number().over(window_spec).cast(StringType())))\n",
				"  df = df.withColumn(\"ratingId\", F.concat_ws('', F.lit(prefix), F.lit('RTE'), F.row_number().over(window_spec).cast(StringType())))\n",
				"  df = df.withColumn(\"bookingId\", F.concat_ws('', F.lit(prefix), F.lit('BKD'), F.row_number().over(window_spec).cast(StringType())))\n",
				"\n",
				"  df = df.drop('monotonically_increasing_id\"')\n",
				"\n",
				"  return df"
			]
		},
		{
			"cell_type": "code",
			"execution_count": null,
			"metadata": {
				"trusted": true
			},
			"outputs": [],
			"source": [
				"#create id columns in df dictionary\n",
				"for df_name, df in airbnb_listings_dict.items():\n",
				"    airbnb_listings_dict[df_name] = create_id_columns(df_name, df)"
			]
		},
		{
			"cell_type": "code",
			"execution_count": null,
			"metadata": {
				"tags": [],
				"trusted": true
			},
			"outputs": [],
			"source": [
				"# show the first 10 rows of the dubaiData\n",
				"airbnb_listings_dict['torontoData'].select('listingId').show()"
			]
		},
		{
			"cell_type": "code",
			"execution_count": null,
			"metadata": {
				"trusted": true
			},
			"outputs": [],
			"source": [
				"def fill_missing_values(df):\n",
				"    \"\"\"\n",
				"    This function fills missing values in the dataframe\n",
				"\n",
				"    Parameters:\n",
				"    df: The dataframe to fill missing values\n",
				"\n",
				"    Returns: The dataframe with missing values filled\n",
				"    \"\"\"\n",
				"    for col_name, dtype in df.dtypes:\n",
				"        if dtype in [\"string\"]:\n",
				"            df = df.fillna(\"NA\", subset=[col_name])\n",
				"        elif dtype in [\"float\"]:\n",
				"            df = df.fillna(0.0, subset=[col_name])\n",
				"        elif dtype in [\"int\"]:\n",
				"            df = df.fillna(0, subset=[col_name])\n",
				"        elif dtype in [\"date\"]:\n",
				"            df = df.fillna(\"NA\", subset=[col_name])\n",
				"        else:\n",
				"            continue\n",
				"    return df"
			]
		},
		{
			"cell_type": "code",
			"execution_count": null,
			"metadata": {
				"tags": [],
				"trusted": true
			},
			"outputs": [],
			"source": [
				"#create id columns in df dictionary\n",
				"for df_name, df in airbnb_listings_dict.items():\n",
				"    airbnb_listings_dict[df_name] = fill_missing_values(df)"
			]
		},
		{
			"cell_type": "code",
			"execution_count": null,
			"metadata": {
				"trusted": true
			},
			"outputs": [],
			"source": [
				"#create lisiting dimension table\n",
				"listing_dim = (airbnb_listings_dict[\"dubaiData\"]\n",
				"            .select('listingID','listingTitle', 'propertyType', 'listingType', 'listingURL', 'createdDate', 'currencyNative')\n",
				"            .union(airbnb_listings_dict[\"losAngelesData\"].select('listingID','listingTitle', 'propertyType', 'listingType', 'listingURL', 'createdDate', 'currencyNative'))\n",
				"            .union(airbnb_listings_dict[\"londonData\"].select('listingID','listingTitle', 'propertyType', 'listingType', 'listingURL', 'createdDate', 'currencyNative'))\n",
				"            .union(airbnb_listings_dict[\"miamiData\"].select('listingID','listingTitle', 'propertyType', 'listingType', 'listingURL', 'createdDate', 'currencyNative'))\n",
				"            .union(airbnb_listings_dict[\"newYorkCityData\"].select('listingID','listingTitle', 'propertyType', 'listingType', 'listingURL', 'createdDate', 'currencyNative'))\n",
				"            .union(airbnb_listings_dict[\"sanFranciscoData\"].select('listingID','listingTitle', 'propertyType', 'listingType', 'listingURL', 'createdDate', 'currencyNative'))\n",
				"            .union(airbnb_listings_dict[\"sydneyData\"].select('listingID','listingTitle', 'propertyType', 'listingType', 'listingURL', 'createdDate', 'currencyNative'))\n",
				"            .union(airbnb_listings_dict[\"tokyoData\"].select('listingID','listingTitle', 'propertyType', 'listingType', 'listingURL', 'createdDate', 'currencyNative'))\n",
				"            .union(airbnb_listings_dict[\"torontoData\"].select('listingID','listingTitle', 'propertyType', 'listingType', 'listingURL', 'createdDate', 'currencyNative')))\n"
			]
		},
		{
			"cell_type": "code",
			"execution_count": null,
			"metadata": {
				"tags": [],
				"trusted": true
			},
			"outputs": [],
			"source": [
				"listing_dim.show()"
			]
		},
		{
			"cell_type": "code",
			"execution_count": null,
			"metadata": {
				"trusted": true
			},
			"outputs": [],
			"source": [
				"#create host dimension table\n",
				"host_dim = (airbnb_listings_dict[\"dubaiData\"].select('airbnbHostID', 'hostListingCount')\n",
				"            .union(airbnb_listings_dict[\"losAngelesData\"].select('airbnbHostID', 'hostListingCount'))\n",
				"            .union(airbnb_listings_dict[\"londonData\"].select('airbnbHostID', 'hostListingCount'))\n",
				"            .union(airbnb_listings_dict[\"miamiData\"].select('airbnbHostID', 'hostListingCount'))\n",
				"            .union(airbnb_listings_dict[\"newYorkCityData\"].select('airbnbHostID', 'hostListingCount'))\n",
				"            .union(airbnb_listings_dict[\"sanFranciscoData\"].select('airbnbHostID', 'hostListingCount'))\n",
				"            .union(airbnb_listings_dict[\"sydneyData\"].select('airbnbHostID', 'hostListingCount'))\n",
				"            .union(airbnb_listings_dict[\"tokyoData\"].select('airbnbHostID', 'hostListingCount'))\n",
				"            .union(airbnb_listings_dict[\"torontoData\"].select('airbnbHostID', 'hostListingCount')))"
			]
		},
		{
			"cell_type": "code",
			"execution_count": null,
			"metadata": {
				"tags": [],
				"trusted": true
			},
			"outputs": [],
			"source": [
				"host_dim.show()"
			]
		},
		{
			"cell_type": "code",
			"execution_count": null,
			"metadata": {
				"tags": [],
				"trusted": true
			},
			"outputs": [],
			"source": [
				"#fill create state column filled with a constant value\n",
				"airbnb_listings_dict['dubaiData'] = airbnb_listings_dict['dubaiData'].withColumn('state', F.lit('dubai'))\n",
				"airbnb_listings_dict['torontoData'] = airbnb_listings_dict['torontoData'].withColumn('state', F.lit('toronto'))"
			]
		},
		{
			"cell_type": "code",
			"execution_count": null,
			"metadata": {
				"trusted": true
			},
			"outputs": [],
			"source": [
				"#create location dimension table\n",
				"location_dim = (airbnb_listings_dict[\"dubaiData\"]\n",
				"                .select('airbnbPropertyID', 'country', 'state', 'city', 'zipcode', 'latitude', 'longitude', 'exactLocation')\n",
				"                .union(airbnb_listings_dict[\"losAngelesData\"].select('airbnbPropertyID', 'country', 'state', 'city', 'zipcode', 'latitude', 'longitude', 'exactLocation'))\n",
				"                .union(airbnb_listings_dict[\"londonData\"].select('airbnbPropertyID', 'country', 'state', 'city', 'zipcode', 'latitude', 'longitude', 'exactLocation'))\n",
				"                .union(airbnb_listings_dict[\"miamiData\"].select('airbnbPropertyID', 'country', 'state', 'city', 'zipcode', 'latitude', 'longitude', 'exactLocation'))\n",
				"                .union(airbnb_listings_dict[\"newYorkCityData\"].select('airbnbPropertyID', 'country', 'state', 'city', 'zipcode', 'latitude', 'longitude', 'exactLocation'))\n",
				"                .union(airbnb_listings_dict[\"sanFranciscoData\"].select('airbnbPropertyID', 'country', 'state', 'city', 'zipcode', 'latitude', 'longitude', 'exactLocation'))\n",
				"                .union(airbnb_listings_dict[\"sydneyData\"].select('airbnbPropertyID', 'country', 'state', 'city', 'zipcode', 'latitude', 'longitude', 'exactLocation'))\n",
				"                .union(airbnb_listings_dict[\"tokyoData\"].select('airbnbPropertyID', 'country', 'state', 'city', 'zipcode', 'latitude', 'longitude', 'exactLocation'))\n",
				"                .union(airbnb_listings_dict[\"torontoData\"].select('airbnbPropertyID', 'country', 'state', 'city', 'zipcode', 'latitude', 'longitude', 'exactLocation')))"
			]
		},
		{
			"cell_type": "code",
			"execution_count": null,
			"metadata": {
				"tags": [],
				"trusted": true
			},
			"outputs": [],
			"source": [
				"location_dim.show()"
			]
		},
		{
			"cell_type": "code",
			"execution_count": null,
			"metadata": {
				"trusted": true
			},
			"outputs": [],
			"source": [
				"#create amenities dimension table\n",
				"amenities_dim = (airbnb_listings_dict[\"dubaiData\"].select('amenitiesID', 'amenities')\n",
				"            .union(airbnb_listings_dict[\"losAngelesData\"].select('amenitiesID', 'amenities'))\n",
				"            .union(airbnb_listings_dict[\"londonData\"].select('amenitiesID', 'amenities'))\n",
				"            .union(airbnb_listings_dict[\"miamiData\"].select('amenitiesID', 'amenities'))\n",
				"            .union(airbnb_listings_dict[\"newYorkCityData\"].select('amenitiesID', 'amenities'))\n",
				"            .union(airbnb_listings_dict[\"sanFranciscoData\"].select('amenitiesID', 'amenities'))\n",
				"            .union(airbnb_listings_dict[\"sydneyData\"].select('amenitiesID', 'amenities'))\n",
				"            .union(airbnb_listings_dict[\"tokyoData\"].select('amenitiesID', 'amenities'))\n",
				"               .union(airbnb_listings_dict[\"torontoData\"].select('amenitiesID', 'amenities')))"
			]
		},
		{
			"cell_type": "code",
			"execution_count": null,
			"metadata": {
				"tags": [],
				"trusted": true
			},
			"outputs": [],
			"source": [
				"amenities_dim.show()"
			]
		},
		{
			"cell_type": "code",
			"execution_count": null,
			"metadata": {
				"trusted": true
			},
			"outputs": [],
			"source": [
				"#create ratings dimension table\n",
				"rating_dim = (airbnb_listings_dict[\"dubaiData\"].select('ratingID', 'overallRating', 'airbnbCommunicationRating',\n",
				"                   'airbnbAccuracyRating', 'airbnbCleanlinessRating', 'airbnbCheckinRating', 'airbnbLocationRating', 'airbnbValueRating')\n",
				"             .union(airbnb_listings_dict[\"losAngelesData\"].select('ratingID', 'overallRating', 'airbnbCommunicationRating',\n",
				"                   'airbnbAccuracyRating', 'airbnbCleanlinessRating', 'airbnbCheckinRating', 'airbnbLocationRating', 'airbnbValueRating'))\n",
				"             .union(airbnb_listings_dict[\"londonData\"].select('ratingID', 'overallRating', 'airbnbCommunicationRating',\n",
				"                   'airbnbAccuracyRating', 'airbnbCleanlinessRating', 'airbnbCheckinRating', 'airbnbLocationRating', 'airbnbValueRating'))\n",
				"             .union(airbnb_listings_dict[\"miamiData\"].select('ratingID', 'overallRating', 'airbnbCommunicationRating',\n",
				"                   'airbnbAccuracyRating', 'airbnbCleanlinessRating', 'airbnbCheckinRating', 'airbnbLocationRating', 'airbnbValueRating'))\n",
				"             .union(airbnb_listings_dict[\"newYorkCityData\"].select('ratingID', 'overallRating', 'airbnbCommunicationRating',\n",
				"                   'airbnbAccuracyRating', 'airbnbCleanlinessRating', 'airbnbCheckinRating', 'airbnbLocationRating', 'airbnbValueRating'))\n",
				"             .union(airbnb_listings_dict[\"sanFranciscoData\"].select('ratingID', 'overallRating', 'airbnbCommunicationRating',\n",
				"                   'airbnbAccuracyRating', 'airbnbCleanlinessRating', 'airbnbCheckinRating', 'airbnbLocationRating', 'airbnbValueRating'))\n",
				"             .union(airbnb_listings_dict[\"sydneyData\"].select('ratingID', 'overallRating', 'airbnbCommunicationRating',\n",
				"                   'airbnbAccuracyRating', 'airbnbCleanlinessRating', 'airbnbCheckinRating', 'airbnbLocationRating', 'airbnbValueRating'))\n",
				"             .union(airbnb_listings_dict[\"tokyoData\"].select('ratingID', 'overallRating', 'airbnbCommunicationRating',\n",
				"                   'airbnbAccuracyRating', 'airbnbCleanlinessRating', 'airbnbCheckinRating', 'airbnbLocationRating', 'airbnbValueRating'))\n",
				"             .union(airbnb_listings_dict[\"torontoData\"].select('ratingID', 'overallRating', 'airbnbCommunicationRating',\n",
				"                   'airbnbAccuracyRating', 'airbnbCleanlinessRating', 'airbnbCheckinRating', 'airbnbLocationRating', 'airbnbValueRating')))\n"
			]
		},
		{
			"cell_type": "code",
			"execution_count": null,
			"metadata": {
				"tags": [],
				"trusted": true
			},
			"outputs": [],
			"source": [
				"rating_dim.show()"
			]
		},
		{
			"cell_type": "code",
			"execution_count": null,
			"metadata": {
				"trusted": true
			},
			"outputs": [],
			"source": [
				"#create booking dimension table\n",
				"booking_dim = (airbnb_listings_dict[\"dubaiData\"]\n",
				"               .select('bookingID', 'checkInTime', 'checkoutTime', 'minimumStay')\n",
				"               .union(airbnb_listings_dict[\"losAngelesData\"].select('bookingID', 'checkInTime', 'checkoutTime', 'minimumStay'))\n",
				"               .union(airbnb_listings_dict[\"londonData\"].select('bookingID', 'checkInTime', 'checkoutTime', 'minimumStay'))\n",
				"               .union(airbnb_listings_dict[\"miamiData\"].select('bookingID', 'checkInTime', 'checkoutTime', 'minimumStay'))\n",
				"               .union(airbnb_listings_dict[\"newYorkCityData\"].select('bookingID', 'checkInTime', 'checkoutTime', 'minimumStay'))\n",
				"               .union(airbnb_listings_dict[\"sanFranciscoData\"].select('bookingID', 'checkInTime', 'checkoutTime', 'minimumStay'))\n",
				"               .union(airbnb_listings_dict[\"sydneyData\"].select('bookingID', 'checkInTime', 'checkoutTime', 'minimumStay'))\n",
				"               .union(airbnb_listings_dict[\"tokyoData\"].select('bookingID', 'checkInTime', 'checkoutTime', 'minimumStay'))\n",
				"               .union(airbnb_listings_dict[\"torontoData\"].select('bookingID', 'checkInTime', 'checkoutTime', 'minimumStay')))"
			]
		},
		{
			"cell_type": "code",
			"execution_count": null,
			"metadata": {
				"tags": [],
				"trusted": true
			},
			"outputs": [],
			"source": [
				"booking_dim.show()"
			]
		},
		{
			"cell_type": "code",
			"execution_count": null,
			"metadata": {
				"trusted": true
			},
			"outputs": [],
			"source": [
				"#create booking fact table\n",
				"booking_columns = [df.select('bookingID', 'listingID', 'airbnbHostID', 'airbnbPropertyID', 'amenitiesID',\n",
				"                        'ratingID', 'numberOfReviews', 'bedrooms', 'bathrooms', 'maxGuests', 'airbnbSuperhost',\n",
				"                        'cancellationPolicy', 'cleaningFeeUSD', 'extraPeopleFeeUSD',\n",
				"                        'extraPeopleFeeNative', 'instantBookable', 'petsAllowed', 'occupancyRateLTM',\n",
				"                        'numberOfBookingsLTM', 'numberOfBookingsLTMObservedMonth', 'averageDailyRateUSD') \n",
				"                  for df in airbnb_listings_dict.values()]"
			]
		},
		{
			"cell_type": "code",
			"execution_count": null,
			"metadata": {
				"tags": [],
				"trusted": true
			},
			"outputs": [],
			"source": [
				"booking_fact = booking_columns[0]\n",
				"for df in booking_columns[1:]:\n",
				"    booking_fact = booking_fact.union(df)"
			]
		},
		{
			"cell_type": "code",
			"execution_count": null,
			"metadata": {
				"tags": [],
				"trusted": true
			},
			"outputs": [],
			"source": [
				"booking_fact.show()"
			]
		},
		{
			"cell_type": "code",
			"execution_count": null,
			"metadata": {
				"trusted": true
			},
			"outputs": [],
			"source": [
				"#create a list of tuples to reiterate over\n",
				"airbnb_listings_fact_dim_tables = {\n",
				"    (listing_dim, \"listing_dim\"), \n",
				"    (location_dim, \"location_dim\"),\n",
				"    (host_dim, \"host_dim\"),\n",
				"    (amenities_dim, \"amenities_dim\"),\n",
				"    (rating_dim, \"rating_dim\"),\n",
				"    (booking_dim, \"booking_dim\"),\n",
				"   ( booking_fact, \"booking_fact\")   \n",
				"}\n"
			]
		},
		{
			"cell_type": "code",
			"execution_count": null,
			"metadata": {
				"tags": [],
				"trusted": true
			},
			"outputs": [],
			"source": [
				"#convert spark dataframe to dynamicframe\n",
				"listing_dim_dyf = DynamicFrame.fromDf(listing_dim, glueContext, 'dynamic_frame')\n",
				"location_dim_dyf = DynamicFrame.fromDf(location_dim, glueContext, 'dynamic_frame')\n",
				"host_dim_dyf = DynamicFrame.fromDf(host_dim, glueContext, 'dynamic_frame')\n",
				"amenities_dim_dyf = DynamicFrame.fromDf(amenities_dim, glueContext, 'dynamic_frame')\n",
				"rating_dim_dyf = DynamicFrame.fromDf(rating_dim, glueContext, 'dynamic_frame')\n",
				"booking_dim_dyf = DynamicFrame.fromDf(booking_dim, glueContext, 'dynamic_frame')\n",
				"booking_fact_dyf = DynamicFrame.fromDf(booking_fact, glueContext, 'dynamic_frame')"
			]
		},
		{
			"cell_type": "code",
			"execution_count": null,
			"metadata": {},
			"outputs": [],
			"source": [
				"#create a list of tuples to reiterate over\n",
				"dynamic_frames = [\n",
				"    (listing_dim_dyf, \"listing_dim\"), \n",
				"    (location_dim_dyf, \"location_dim\"),\n",
				"    (host_dim_dyf, \"host_dim\"),\n",
				"    (amenities_dim_dyf, \"amenities_dim\"),\n",
				"    (rating_dim_dyf, \"rating_dim\"),\n",
				"    (booking_dim_dyf, \"booking_dim\"),\n",
				"   ( booking_fact_dyf, \"booking_fact\")   \n",
				"]"
			]
		},
		{
			"cell_type": "code",
			"execution_count": null,
			"metadata": {
				"tags": [],
				"trusted": true
			},
			"outputs": [],
			"source": [
				"#write dynamicframes to s3\n",
				"for dyf, dyf_name in dynamic_frames:\n",
				"    sink = glueContext.getSink(\n",
				"                path=f\"s3://airbnb_listings-bucket/transformed_data/{dyf_name}.csv\",\n",
				"                connection_type=\"s3\",\n",
				"                updateBehavior=\"UPDATE_IN_DATABASE\",\n",
				"                partitionKeys=[],\n",
				"                compression=\"gzip\",\n",
				"                enableUpdateCatalog=True,\n",
				"                transformation_ctx=f\"{dyf_name}_csv_sink\")\n",
				"    sink.setCatalogInfo(\n",
				"                        catalogDatabase=\"airbnb_catalog_db\",\n",
				"                        catalogTableName=f\"{dyf_name}_csv\")\n",
				"    sink.setFormat(\"csv\")\n",
				"    sink.writeFrame(dyf)"
			]
		},
		{
			"cell_type": "code",
			"execution_count": null,
			"metadata": {
				"tags": [],
				"trusted": true
			},
			"outputs": [],
			"source": [
				"sc.stop()"
			]
		}
	],
	"metadata": {
		"kernelspec": {
			"display_name": "data_eng",
			"language": "python",
			"name": "python3"
		},
		"language_info": {
			"codemirror_mode": {
				"name": "ipython",
				"version": 3
			},
			"file_extension": ".py",
			"mimetype": "text/x-python",
			"name": "python",
			"nbconvert_exporter": "python",
			"pygments_lexer": "ipython3",
			"version": "3.12.3"
		}
	},
	"nbformat": 4,
	"nbformat_minor": 4
}
