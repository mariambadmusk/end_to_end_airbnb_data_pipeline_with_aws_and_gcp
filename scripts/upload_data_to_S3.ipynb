{
 "cells": [
  {
   "cell_type": "code",
   "execution_count": null,
   "metadata": {},
   "outputs": [],
   "source": [
    "#import necessary dependencies\n",
    "import pandas as pd\n",
    "import numpy as np\n",
    "import os\n",
    "import boto3\n",
    "from botocore.exceptions import NoCredentialsError\n",
    "import io\n",
    "from io import StringIO\n",
    "from dotenv import load_dotenv\n",
    "import sys\n",
    "import configparser\n"
   ]
  },
  {
   "cell_type": "code",
   "execution_count": null,
   "metadata": {},
   "outputs": [],
   "source": [
    "config = configparser.ConfigParser()\n",
    "config.read('.env')"
   ]
  },
  {
   "cell_type": "code",
   "execution_count": null,
   "metadata": {},
   "outputs": [],
   "source": [
    "aws_secret_key = config['AWS']['secret_key']\n",
    "aws_access_key = config['AWS']['access_key']"
   ]
  },
  {
   "cell_type": "code",
   "execution_count": null,
   "metadata": {},
   "outputs": [],
   "source": [
    "#upload raw_data\n",
    "raw_dubai_data = pd.read_csv(\"airbnb_listings/DubaiData.csv\")\n",
    "raw_la_data = pd.read_csv(\"airbnb_listings/LAData.csv\")\n",
    "raw_london_data = pd.read_csv(\"airbnb_listings/LondonData.csv\")\n",
    "raw_miami_data = pd.read_csv(\"airbnb_listings/MiamiData.csv\")\n",
    "raw_nyc_data = pd.read_csv(\"airbnb_listings/NYCData.csv\")\n",
    "raw_sanfransisco_data = pd.read_csv(\"airbnb_listings/SanFransiscoData.csv\")\n",
    "raw_sydney_data = pd.read_csv(\"airbnb_listings/SydneyData.csv\")\n",
    "raw_tokyo_data = pd.read_csv(\"airbnb_listings/TokyoData.csv\")\n",
    "raw_toronto_data = pd.read_csv(\"airbnb_listings/TorontoData.csv\")"
   ]
  },
  {
   "cell_type": "code",
   "execution_count": null,
   "metadata": {},
   "outputs": [],
   "source": [
    "#upload to S3_Bucket\n",
    "s3_client = boto3.client('s3',\n",
    "                         aws_access_key_id = aws_access_key,\n",
    "                         aws_secret_access_key =aws_secret_key\n",
    "                        )"
   ]
  },
  {
   "cell_type": "code",
   "execution_count": null,
   "metadata": {},
   "outputs": [],
   "source": [
    "response = s3_client.create_bucket(\n",
    "            Bucket = 'raw_airbnb_listings_data',\n",
    "            CreateBucketConfiguration = {\n",
    "                'LocationConstraint': 'eu-west-2',\n",
    "            },\n",
    "            )\n",
    "print(response)"
   ]
  },
  {
   "cell_type": "code",
   "execution_count": null,
   "metadata": {},
   "outputs": [],
   "source": [
    "#upload to S3 bucket\n",
    "def upload_to_s3(df, Bucket, object_key):\n",
    "    try:\n",
    "        buffer = io.BytesIO()\n",
    "        df.to_csv(buffer, index = False)\n",
    "        buffer.seek(0)\n",
    "        s3_client.upload_fileobj(buffer, Bucket, object_key)\n",
    "        print(f\"file uploaded to s3://{Bucket}/{object_key}.csv\")\n",
    "    except NoCredentialsError:\n",
    "        print(\"Credentials not available or incorrect\")\n",
    "    except Exception as e:\n",
    "        print(f\"Upload to s3://{Bucket}/{object_key} failed: {e}\")\n",
    "        "
   ]
  },
  {
   "cell_type": "code",
   "execution_count": null,
   "metadata": {},
   "outputs": [],
   "source": [
    "#store all dfs in a dictionary\n",
    "\n",
    "raw_data = {\n",
    "    \"dubaiData\": raw_dubai_data,\n",
    "    \"losAngelesData\": raw_la_data,\n",
    "    \"londonData\": raw_london_data ,\n",
    "    \"miamiData\": raw_miami_data,\n",
    "    \"newYorkCityData\": raw_nyc_data,\n",
    "    \"sanFranciscoData\": raw_sanfransisco_data,\n",
    "    \"sydneyData\": raw_sydney_data,\n",
    "    \"tokyoData\": raw_tokyo_data,\n",
    "    \"torontoData\": raw_toronto_data\n",
    "}"
   ]
  },
  {
   "cell_type": "code",
   "execution_count": null,
   "metadata": {},
   "outputs": [],
   "source": [
    "for df_name, df in raw_data.items():\n",
    "    bucket = \"airbnb_listings-bucket/raw-data\"\n",
    "    object_key = df_name\n",
    "    upload_to_s3(df, bucket, df_name )\n",
    "    "
   ]
  }
 ],
 "metadata": {
  "language_info": {
   "name": "python"
  }
 },
 "nbformat": 4,
 "nbformat_minor": 2
}
