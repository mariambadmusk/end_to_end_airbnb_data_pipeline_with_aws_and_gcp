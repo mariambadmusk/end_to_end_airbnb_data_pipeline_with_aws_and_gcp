{
	"cells": [
		{
			"cell_type": "code",
			"execution_count": 1,
			"metadata": {
				"tags": [],
				"trusted": true,
				"vscode": {
					"languageId": "python_glue_session"
				}
			},
			"outputs": [
				{
					"name": "stdout",
					"output_type": "stream",
					"text": [
						"Welcome to the Glue Interactive Sessions Kernel\n",
						"For more information on available magic commands, please type %help in any new cell.\n",
						"\n",
						"Please view our Getting Started page to access the most up-to-date information on the Interactive Sessions kernel: https://docs.aws.amazon.com/glue/latest/dg/interactive-sessions.html\n",
						"Installed kernel version: 1.0.7 \n",
						"Trying to create a Glue session for the kernel.\n",
						"Session Type: glueetl\n",
						"Session ID: c0df4415-bd32-4a9f-aa29-90dbd9212d68\n",
						"Applying the following default arguments:\n",
						"--glue_kernel_version 1.0.7\n",
						"--enable-glue-datacatalog true\n",
						"Waiting for session c0df4415-bd32-4a9f-aa29-90dbd9212d68 to get into ready status...\n",
						"Session c0df4415-bd32-4a9f-aa29-90dbd9212d68 has been created.\n",
						"\n"
					]
				}
			],
			"source": [
				"#import necessary dependencies\n",
				"from pyspark.context import SparkContext\n",
				"from awsglue.context import GlueContext\n",
				"import boto3\n",
				"import io\n",
				"import sys\n",
				"import os\n",
				"import re\n",
				"import random\n",
				"from pyspark.sql import SparkSession, Row\n",
				"import pyspark.sql.functions as F\n",
				"from pyspark.sql.types import StringType, StructType, StructField\n",
				"from pyspark.sql.window import Window\n",
				"from awsglue.transforms import *\n",
				"from awsglue.transforms import ApplyMapping\n",
				"from awsglue.dynamicframe import DynamicFrame"
			]
		},
		{
			"cell_type": "code",
			"execution_count": 3,
			"metadata": {
				"tags": [],
				"trusted": true,
				"vscode": {
					"languageId": "python_glue_session"
				}
			},
			"outputs": [
				{
					"name": "stdout",
					"output_type": "stream",
					"text": [
						"\n"
					]
				}
			],
			"source": [
				"#initialize spark context and glue context\n",
				"sc = SparkContext.getOrCreate()\n",
				"glueContext = GlueContext(sc)\n",
				"spark = glueContext.spark_session"
			]
		},
		{
			"cell_type": "code",
			"execution_count": 4,
			"metadata": {
				"tags": [],
				"trusted": true,
				"vscode": {
					"languageId": "python_glue_session"
				}
			},
			"outputs": [
				{
					"name": "stdout",
					"output_type": "stream",
					"text": [
						"\n"
					]
				}
			],
			"source": [
				"# create dynamicframes \n",
				"def create_dynamic_frame_from_csv(file):\n",
				"    \"\"\"\n",
				"    This function creates a dynamic frame from a CSV file\n",
				"  \n",
				"    Parameter(csv file): The CSV file to create a dynamic frame\n",
				"    \n",
				"    Returns: The dynamic frame created from the CSV file\n",
				"    \"\"\"\n",
				"\n",
				"    dynamic_frame = glueContext.create_dynamic_frame.from_options(\n",
				"        format_options={\"withHeader\": True, \"separator\": \",\"},\n",
				"        connection_type=\"s3\",\n",
				"        format=\"csv\",\n",
				"        connection_options={\"paths\": [file], \"recurse\": True},\n",
				"        transformation_ctx=\"airbnbETLpipeline\"\n",
				"  )\n",
				"    return dynamic_frame"
			]
		},
		{
			"cell_type": "code",
			"execution_count": 5,
			"metadata": {
				"tags": [],
				"trusted": true,
				"vscode": {
					"languageId": "python_glue_session"
				}
			},
			"outputs": [
				{
					"name": "stdout",
					"output_type": "stream",
					"text": [
						"\n"
					]
				}
			],
			"source": [
				"# create dynamicframes for all the cities\n",
				"dubaiData = create_dynamic_frame_from_csv('s3://airbnb-listings-data/raw-data/DubaiData.csv')\n",
				"londonData  = create_dynamic_frame_from_csv('s3://airbnb-listings-data/raw-data/LondonData.csv')\n",
				"miamiData = create_dynamic_frame_from_csv('s3://airbnb-listings-data/raw-data/MiamiData.csv')\n",
				"newYorkCityData = create_dynamic_frame_from_csv('s3://airbnb-listings-data/raw-data/NYCData.csv')\n",
				"sanFranciscoData = create_dynamic_frame_from_csv('s3://airbnb-listings-data/raw-data/SanFransiscoData.csv')\n",
				"sydneyData = create_dynamic_frame_from_csv('s3://airbnb-listings-data/raw-data/SydneyData.csv')\n",
				"tokyoData =  create_dynamic_frame_from_csv('s3://airbnb-listings-data/raw-data/TokyoData.csv')\n",
				"torontoData  = create_dynamic_frame_from_csv('s3://airbnb-listings-data/raw-data/TorontoData.csv')\n",
				"losAngelesData = create_dynamic_frame_from_csv('s3://airbnb-listings-data/raw-data/LAData.csv')"
			]
		},
		{
			"cell_type": "code",
			"execution_count": 6,
			"metadata": {
				"tags": [],
				"trusted": true,
				"vscode": {
					"languageId": "python_glue_session"
				}
			},
			"outputs": [
				{
					"name": "stdout",
					"output_type": "stream",
					"text": [
						"root\n",
						"|-- Listing Title: string\n",
						"|-- Property Type: string\n",
						"|-- Listing Type: string\n",
						"|-- Created Date: string\n",
						"|-- Last Scraped Date: string\n",
						"|-- Country: string\n",
						"|-- City: string\n",
						"|-- Zipcode: string\n",
						"|-- Currency Native: string\n",
						"|-- Number of Reviews: string\n",
						"|-- Bedrooms: string\n",
						"|-- Bathrooms: string\n",
						"|-- Max Guests: string\n",
						"|-- Airbnb Superhost: string\n",
						"|-- Cancellation Policy: string\n",
						"|-- Cleaning Fee (USD): string\n",
						"|-- Cleaning Fee (Native): string\n",
						"|-- Extra People Fee (USD): string\n",
						"|-- Extra People Fee(Native): string\n",
						"|-- Check-in Time: string\n",
						"|-- Checkout Time: string\n",
						"|-- Minimum Stay: string\n",
						"|-- Latitude: string\n",
						"|-- Longitude: string\n",
						"|-- Exact Location: string\n",
						"|-- Overall Rating: string\n",
						"|-- Airbnb Communication Rating: string\n",
						"|-- Airbnb Accuracy Rating: string\n",
						"|-- Airbnb Cleanliness Rating: string\n",
						"|-- Airbnb Checkin Rating: string\n",
						"|-- Airbnb Location Rating: string\n",
						"|-- Airbnb Value Rating: string\n",
						"|-- Amenities: string\n",
						"|-- picture_url: string\n",
						"|-- License: string\n",
						"|-- Airbnb Property ID: string\n",
						"|-- Airbnb Host ID: string\n",
						"|-- Host Listing Count: string\n",
						"|-- guest_controls: string\n",
						"|-- instant_bookable: string\n",
						"|-- Pets Allowed: string\n",
						"|-- Listing URL: string\n",
						"|-- Instantbook Enabled: string\n",
						"|-- Count Available Days LTM: string\n",
						"|-- Count Blocked Days LTM: string\n",
						"|-- Count Reservation Days LTM: string\n",
						"|-- Occupancy Rate LTM: string\n",
						"|-- Number of Bookings LTM: string\n",
						"|-- Number of Bookings LTM - Number of observed month: string\n",
						"|-- Average Daily Rate (USD): string\n",
						"|-- Average Daily Rate (Native): string\n",
						"|-- Annual Revenue LTM (USD): string\n",
						"|-- Annual Revenue LTM (Native): string\n"
					]
				}
			],
			"source": [
				"#convert dynamicframe to dataframe and check the schema to map the columns\n",
				"dubaiData.printSchema()"
			]
		},
		{
			"cell_type": "code",
			"execution_count": 12,
			"metadata": {
				"tags": [],
				"trusted": true,
				"vscode": {
					"languageId": "python_glue_session"
				}
			},
			"outputs": [
				{
					"name": "stdout",
					"output_type": "stream",
					"text": [
						"\n"
					]
				}
			],
			"source": [
				"# create a list of all the dynamic frames\n",
				"mapped_data = [\n",
				"    (\"Listing Title\", \"string\", \"listingTitle\", \"string\"),\n",
				"    (\"Property Type\", \"string\", \"propertyType\", \"string\"),\n",
				"    (\"Listing Type\", \"string\", \"listingType\", \"string\"),\n",
				"    (\"Created Date\", \"string\", \"createdDate\", \"string\"),\n",
				"    (\"Last Scraped Date\", \"string\", \"lastScrapedDate\", \"string\"),\n",
				"    (\"Country\", \"string\", \"country\", \"string\"),\n",
				"    (\"State\", \"string\", \"state\", \"string\"),\n",
				"    (\"City\", \"string\", \"city\", \"string\"),\n",
				"    (\"Zipcode\", \"string\", \"zipcode\", \"string\"),\n",
				"    (\"Longitude\", \"string\", \"longitude\", \"float\"),  \n",
				"    (\"guest_controls\", \"string\", \"guestControls\", \"string\"), \n",
				"    (\"Airbnb Location Rating\", \"string\", \"airbnbLocationRating\", \"int\"), \n",
				"    (\"Currency Native\", \"string\", \"currencyNative\", \"string\"),\n",
				"    (\"Average Daily Rate (Native)\", \"float\", \"averageDailyRateNative\", \"float\"), \n",
				"    (\"Average Daily Rate (USD)\", \"float\", \"averageDailyRateUSD\", \"float\"), \n",
				"    (\"Count Blocked Days LTM\", \"string\", \"countBlockedDaysLTM\", \"int\"), \n",
				"    (\"Bedrooms\", \"string\", \"bedrooms\", \"int\"), \n",
				"    (\"Airbnb Property ID\", \"string\", \"airbnbPropertyID\", \"string\"), \n",
				"    (\"Check-in Time\", \"string\", \"checkInTime\", \"string\"), \n",
				"    (\"Bathrooms\", \"string\", \"bathrooms\", \"int\"), \n",
				"    (\"Airbnb Communication Rating\", \"string\", \"airbnbCommunicationRating\", \"int\"),\n",
				"    (\"Airbnb Host ID\", \"string\", \"airbnbHostID\", \"string\"),\n",
				"    (\"Pets Allowed\", \"string\", \"petsAllowed\", \"string\"),\n",
				"    (\"Extra People Fee(Native)\", \"string\", \"extraPeopleFeeNative\", \"float\"),\n",
				"    (\"License\", \"string\", \"license\", \"string\"),\n",
				"    (\"Instantbook Enabled\", \"string\", \"instantbookEnabled\", \"string\"),\n",
				"    (\"Amenities\", \"string\", \"amenities\", \"string\"),\n",
				"    (\"Overall Rating\", \"string\", \"overallRating\", \"float\"),\n",
				"    (\"Airbnb Accuracy Rating\", \"string\", \"airbnbAccuracyRating\", \"int\"),\n",
				"    (\"Cancellation Policy\", \"string\", \"cancellationPolicy\", \"string\"),\n",
				"    (\"Cleaning Fee (USD)\", \"string\", \"cleaningFeeUSD\", \"float\"),\n",
				"    (\"Listing URL\", \"string\", \"listingURL\", \"string\"),\n",
				"    (\"instant_bookable\", \"string\", \"instantBookable\", \"string\"),\n",
				"    (\"picture_url\", \"string\", \"pictureUrl\", \"string\"),\n",
				"    (\"Latitude\", \"string\", \"latitude\", \"float\"),\n",
				"    (\"Count Available Days LTM\", \"int\", \"countavailableDaysLTM\", \"int\"),\n",
				"    (\"Count Reservation Days LTM\", \"int\", \"countReservationDaysLTM\", \"int\"),\n",
				"    (\"Number of Reviews\", \"string\", \"numberofReviews\", \"int\"),\n",
				"    (\"Checkout Time\", \"string\", \"checkoutTime\", \"string\"),\n",
				"    (\"Airbnb Value Rating\", \"string\", \"airbnbValueRating\", \"int\"),\n",
				"    (\"Extra People Fee (USD)\", \"string\", \"extraPeopleFeeUSD\", \"float\"),\n",
				"    (\"Airbnb Checkin Rating\", \"string\", \"airbnbCheckinRating\", \"int\"),\n",
				"    (\"Airbnb Superhost\", \"string\", \"airbnbSuperhost\", \"string\"),\n",
				"    (\"Exact Location\", \"string\", \"exactLocation\", \"string\"),\n",
				"    (\"Host Listing Count\", \"string\", \"hostListingCount\", \"int\"),\n",
				"    (\"Minimum Stay\", \"string\", \"minimumStay\", \"int\"),\n",
				"    (\"Occupancy Rate LTM\", \"string\", \"occupancyRateLTM\", \"int\"),\n",
				"    (\"Max Guests\", \"string\", \"maxGuests\", \"int\"),\n",
				"    (\"Number of Bookings LTM\", \"string\", \"numberOfBookingsLTM\", \"int\"),\n",
				"    (\"Number of Bookings LTM - Number of observed month\", \"string\", \"numberOfBookingsLTMObservedMonth\", \"int\"),\n",
				"    (\"Airbnb Cleanliness Rating\", \"string\", \"airbnbCleanlinessRating\", \"int\"),\n",
				"    (\"Annual Revenue LTM (USD)\", \"string\", \"annualRevenueLTMUSD\", \"float\"), \n",
				"    (\"Annual Revenue LTM (Native)\", \"string\", \"annualRevenueLTMNative\", \"float\"), \n",
				"]\n"
			]
		},
		{
			"cell_type": "code",
			"execution_count": 8,
			"metadata": {
				"tags": [],
				"trusted": true,
				"vscode": {
					"languageId": "python_glue_session"
				}
			},
			"outputs": [
				{
					"name": "stdout",
					"output_type": "stream",
					"text": [
						"\n"
					]
				}
			],
			"source": [
				"def applymappings(dyf, mapped_data, transform_ctx_tag):\n",
				"    \"\"\" \n",
				"    This function applies mappings to the dataframe\n",
				"\n",
				"    Parameters:\n",
				"    dyf: The dataframe to apply mappings to\n",
				"    mapped_data: The mapping data\n",
				"    transform_ctx_tag: The transformation context tag\n",
				"    Returns: The mapped dataframe\n",
				"    \"\"\"\n",
				"    mapped_dyf = ApplyMapping.apply(\n",
				"        frame = dyf,\n",
				"        mappings = mapped_data,\n",
				"        transformation_ctx = transform_ctx_tag\n",
				"    )\n",
				"    \n",
				"    return mapped_dyf"
			]
		},
		{
			"cell_type": "code",
			"execution_count": 13,
			"metadata": {
				"tags": [],
				"trusted": true,
				"vscode": {
					"languageId": "python_glue_session"
				}
			},
			"outputs": [
				{
					"name": "stdout",
					"output_type": "stream",
					"text": [
						"\n"
					]
				}
			],
			"source": [
				"# apply mappings to all the cities\n",
				"mapped_losAngelesData= applymappings(losAngelesData, mapped_data, \"mappedLosAngelesData\")\n",
				"mapped_londonData = applymappings(londonData, mapped_data, \"mappedLondonData\")\n",
				"mapped_newYorkCityData = applymappings(newYorkCityData, mapped_data, \"mappedNewYorkCityData\")\n",
				"mapped_sanFranciscoData = applymappings(sanFranciscoData, mapped_data, \"mappedSanFranciscoData\")\n",
				"mapped_sydneyData = applymappings(sydneyData, mapped_data, \"mappedSydneyData\")\n",
				"mapped_tokyoData = applymappings(tokyoData, mapped_data, \"mappedTokyoData\")\n",
				"mapped_torontoData = applymappings(torontoData, mapped_data, \"mapped_torontoData\")"
			]
		},
		{
			"cell_type": "code",
			"execution_count": 14,
			"metadata": {
				"tags": [],
				"trusted": true,
				"vscode": {
					"languageId": "python_glue_session"
				}
			},
			"outputs": [
				{
					"name": "stdout",
					"output_type": "stream",
					"text": [
						"\n"
					]
				}
			],
			"source": [
				"# Apply mapping fucntions to miamiData and add column differences\n",
				"mapped_data_copy_miami = mapped_data.copy()\n",
				"\n",
				"mapped_data_copy_miami.extend([(\"Neighbourhood\", \"string\", \"neighbourhood\", \"string\"), \n",
				"                           (\"Metropolitan Statistical Area\", \"string\", \"metropolitan_statistical_area'\", \"string\"),\n",
				"                           (\"Last Host Count Updated Date\", \"string\", \"last_host_count_updated_date\", \"string\")])\n",
				"\n",
				"mapped_miamiData = applymappings(miamiData, mapped_data_copy_miami, \"mappedMiamiData\")"
			]
		},
		{
			"cell_type": "code",
			"execution_count": 15,
			"metadata": {
				"tags": [],
				"trusted": true,
				"vscode": {
					"languageId": "python_glue_session"
				}
			},
			"outputs": [
				{
					"name": "stdout",
					"output_type": "stream",
					"text": [
						"\n"
					]
				}
			],
			"source": [
				"# Apply mapping fucntions to dubaiData and add column differences\n",
				"mapped_data_copy_dubai = mapped_data.copy()\n",
				"\n",
				"mapped_data_copy_dubai.remove((\"State\", \"string\", \"state\", \"string\"))\n",
				"\n",
				"mapped_dubaiData = applymappings(dubaiData, mapped_data_copy_dubai, 'mappedDubaiData')"
			]
		},
		{
			"cell_type": "code",
			"execution_count": 16,
			"metadata": {
				"tags": [],
				"trusted": true,
				"vscode": {
					"languageId": "python_glue_session"
				}
			},
			"outputs": [
				{
					"name": "stdout",
					"output_type": "stream",
					"text": [
						"\n"
					]
				}
			],
			"source": [
				"# Convert dynamic frame to spark dataframe\n",
				"losAngelesData_dyf = mapped_losAngelesData.toDF()\n",
				"londonData_dyf = mapped_londonData.toDF() \n",
				"miamiData_dyf = mapped_miamiData.toDF() \n",
				"newYorkCityData_dyf = mapped_newYorkCityData.toDF() \n",
				"sanFranciscoData_dyf = mapped_sanFranciscoData.toDF() \n",
				"sydneyData_dyf = mapped_sydneyData.toDF() \n",
				"tokyoData_dyf = mapped_tokyoData.toDF()\n",
				"dubaiData_dyf = mapped_dubaiData.toDF() \n",
				"torontoData_dyf = mapped_torontoData.toDF()"
			]
		},
		{
			"cell_type": "code",
			"execution_count": 17,
			"metadata": {
				"tags": [],
				"trusted": true,
				"vscode": {
					"languageId": "python_glue_session"
				}
			},
			"outputs": [
				{
					"name": "stdout",
					"output_type": "stream",
					"text": [
						"+--------------------+--------------------+------------+-----------+---------------+-------+-----+-------+---------+--------------------+--------------------+--------------+----------------------+-------------------+-------------------+--------+------------------+--------------------+---------+-------------------------+------------+-----------+--------------------+---------------+------------------+--------------------+-------------+--------------------+--------------------+--------------+--------------------+---------------+--------------------+--------+---------------------+-----------------------+---------------+------------+-----------------+-----------------+-------------------+---------------+-------------+----------------+-----------+----------------+---------+-------------------+--------------------------------+-----------------------+-------------------+----------------------+\n",
						"|        listingTitle|        propertyType| listingType|createdDate|lastScrapedDate|country| city|zipcode|longitude|       guestControls|airbnbLocationRating|currencyNative|averageDailyRateNative|averageDailyRateUSD|countBlockedDaysLTM|bedrooms|  airbnbPropertyID|         checkInTime|bathrooms|airbnbCommunicationRating|airbnbHostID|petsAllowed|extraPeopleFeeNative|        license|instantbookEnabled|           amenities|overallRating|airbnbAccuracyRating|  cancellationPolicy|cleaningFeeUSD|          listingURL|instantBookable|          pictureUrl|latitude|countavailableDaysLTM|countReservationDaysLTM|numberofReviews|checkoutTime|airbnbValueRating|extraPeopleFeeUSD|airbnbCheckinRating|airbnbSuperhost|exactLocation|hostListingCount|minimumStay|occupancyRateLTM|maxGuests|numberOfBookingsLTM|numberOfBookingsLTMObservedMonth|airbnbCleanlinessRating|annualRevenueLTMUSD|annualRevenueLTMNative|\n",
						"+--------------------+--------------------+------------+-----------+---------------+-------+-----+-------+---------+--------------------+--------------------+--------------+----------------------+-------------------+-------------------+--------+------------------+--------------------+---------+-------------------------+------------+-----------+--------------------+---------------+------------------+--------------------+-------------+--------------------+--------------------+--------------+--------------------+---------------+--------------------+--------+---------------------+-----------------------+---------------+------------+-----------------+-----------------+-------------------+---------------+-------------+----------------+-----------+----------------+---------+-------------------+--------------------------------+-----------------------+-------------------+----------------------+\n",
						"|Spacious & Privat...|  Entire rental unit| entire_home| 2023-07-31|     2024-01-10|     AE|Dubai|  25314| 55.13921|{\"allows_children...|                   2|           AED|                  null|               null|                337|       3|745527124427190386|       After 3:00 PM|        2|                       10|    25117311|      False|                 0.0|               |             False|['Kitchen', 'Wifi...|          5.0|                  10|                    |           0.0|http://airbnb.com...|               |https://a0.muscac...|24.86716|                 null|                   null|              1|    12:00 PM|               10|              0.0|                  2|              f|            f|            null|          3|              77|        6|                  9|                               6|                      2|             3126.0|               11472.4|\n",
						"|Spacious and Orna...|  Entire rental unit| entire_home| 2023-07-31|     2024-01-10|     AE|Dubai|  25314|    55.14|{\"allows_children...|                   8|           AED|                  null|               null|                 32|       2|          48555713|       After 3:00 PM|        2|                        8|   188310727|      False|                 0.0|  DUB-URB-AZRX7|             False|['Kitchen', 'Wifi...|          4.2|                   8|            moderate|          54.0|http://airbnb.com...|              0|https://a0.muscac...|  24.867|                 null|                   null|             24|    11:00 AM|                8|              0.0|                  8|              f|            t|             164|          2|              78|        4|                 24|                              21|                      9|            21815.0|               80061.1|\n",
						"|Exceptional 2BR n...|  Entire rental unit| entire_home| 2023-07-31|     2024-01-10|     AE|  دبي|  25314| 55.13924|{\"allows_children...|                   8|           AED|                  null|               null|                146|       2|658364273139680995|       After 3:00 PM|        2|                        9|   418671655|      False|                 0.0|  DUB-URB-KJ4YF|             False|['Kitchen', 'Wifi...|          4.3|                   8|                    |           0.0|http://airbnb.com...|               |https://a0.muscac...|24.86729|                 null|                   null|             13|    11:00 AM|                9|              0.0|                  9|              f|            f|            null|          2|              96|        4|                 14|                              11|                      9|            14717.0|               54011.4|\n",
						"|Stylish Apartment...|  Entire rental unit| entire_home| 2023-07-31|     2024-01-10|     AE|Dubai|  25314|   55.143|{\"allows_children...|                   7|           AED|                  null|               null|                112|       2|          44691977|  2:00 PM - 12:00 AM|        3|                        8|    74933177|      False|                 0.0|               |              True|['Kitchen', 'Wifi...|          4.4|                   9|     super_strict_30|           0.0|http://airbnb.com...|              1|https://a0.muscac...|  24.862|                 null|                   null|             12|    11:00 AM|                9|              0.0|                  8|              f|            t|             556|          1|              86|        5|                  9|                               6|                     10|            41775.0|              153314.2|\n",
						"|OFFER! 50% OFF! I...|        Entire condo| entire_home| 2023-07-31|     2024-01-03|     AE|Dubai|  25314|   55.147|{\"allows_children...|                   9|           AED|                  null|               null|                228|       2|730932111426284794|       After 3:00 PM|        2|                       10|   167648591|      False|                 0.0|               |             False|['Kitchen', 'Wifi...|          5.0|                  10|                    |           0.0|http://airbnb.com...|               |https://a0.muscac...|  24.863|                 null|                   null|             10|    11:00 AM|               10|              0.0|                 10|              t|            t|            null|          2|              44|        6|                  6|                               3|                     10|             4461.0|               16371.9|\n",
						"|bnbmehomes | Eleg...|        Entire condo| entire_home| 2023-07-31|     2024-01-10|     AE|Dubai|  25314| 55.15084|{\"allows_children...|                   8|           AED|                  null|               null|                 52|       3|          53333872|4:00 PM - 2:00 AM...|        2|                        9|    16121555|       True|                 0.0|100554747400003|              True|['Kitchen', 'Wifi...|          4.3|                   9|strict_14_with_gr...|         101.0|http://airbnb.com...|              1|https://a0.muscac...|24.86049|                 null|                   null|             14|    12:00 PM|                9|              0.0|                  9|              f|            f|             156|          1|              66|        6|                 33|                              30|                      9|            28949.0|              106242.8|\n",
						"|Studio Apartment ...|  Room in aparthotel| entire_home| 2023-07-31|     2024-01-10|     AE|Dubai|  25314| 55.14499|{\"allows_children...|                  10|           AED|                  null|               null|                250|       1|697480428082911779|  2:00 PM - 12:00 AM|        1|                       10|   446820235|      False|                 0.0|               |             False|['Indoor fireplac...|          5.0|                  10|                    |           0.0|http://airbnb.com...|               |https://a0.muscac...|24.86731|                 null|                   null|              1|    12:00 PM|               10|              0.0|                 10|              f|            f|            null|          2|              52|        2|                 18|                              15|                     10|             6817.0|               25018.4|\n",
						"|Family-Friendly V...|    Entire townhouse| entire_home| 2023-07-31|     2024-01-10|     AE|Dubai|  25314|   55.068|{\"allows_children...|                  10|           AED|                  null|               null|                307|       1|855474683076966622|   8:00 AM - 9:00 PM|        1|                       10|   491396744|       True|                 0.0|               |             False|['Indoor fireplac...|          5.0|                  10|                    |           0.0|http://airbnb.com...|               |https://a0.muscac...|  24.886|                 null|                   null|              1|     1:00 PM|               10|              0.0|                 10|              f|            t|            null|          2|              64|        4|                  1|                              -2|                     10|             2376.0|                8719.9|\n",
						"|Private Room + Ba...|Private room in r...|private_room| 2023-07-31|     2024-01-10|     AE|Dubai|  25314|   55.068|{\"allows_children...|                  10|           AED|                  null|               null|                233|    null|802608705585750879|   8:00 AM - 9:00 PM|        1|                       10|   491396744|       True|                 0.0|               |             False|['Indoor fireplac...|          5.0|                  10|                    |           0.0|http://airbnb.com...|               |https://a0.muscac...|  24.887|                 null|                   null|              2|     1:00 PM|               10|              0.0|                 10|              f|            t|            null|          2|              24|        2|                  6|                               3|                     10|             1109.0|                4070.0|\n",
						"|amazing one-bedro...|    Entire townhouse| entire_home| 2023-07-31|     2024-01-10|     AE|Dubai|  25314|   55.068|{\"allows_children...|                   4|           AED|                  null|               null|                335|       1|822823210801447296|   8:00 AM - 9:00 PM|        1|                       10|   491396744|       True|                 0.0|               |             False|['Indoor fireplac...|          3.0|                   6|                    |           0.0|http://airbnb.com...|               |https://a0.muscac...|  24.887|                 null|                   null|              1|     1:00 PM|                4|              0.0|                  6|              f|            t|            null|          2|              40|        4|                  0|                              -3|                      4|              876.0|                3214.9|\n",
						"+--------------------+--------------------+------------+-----------+---------------+-------+-----+-------+---------+--------------------+--------------------+--------------+----------------------+-------------------+-------------------+--------+------------------+--------------------+---------+-------------------------+------------+-----------+--------------------+---------------+------------------+--------------------+-------------+--------------------+--------------------+--------------+--------------------+---------------+--------------------+--------+---------------------+-----------------------+---------------+------------+-----------------+-----------------+-------------------+---------------+-------------+----------------+-----------+----------------+---------+-------------------+--------------------------------+-----------------------+-------------------+----------------------+\n",
						"only showing top 10 rows\n"
					]
				}
			],
			"source": [
				"# show the first 10 rows of the dubaiData\n",
				"dubaiData_dyf.show(10)"
			]
		},
		{
			"cell_type": "code",
			"execution_count": 18,
			"metadata": {
				"tags": [],
				"trusted": true,
				"vscode": {
					"languageId": "python_glue_session"
				}
			},
			"outputs": [
				{
					"name": "stdout",
					"output_type": "stream",
					"text": [
						"\n"
					]
				}
			],
			"source": [
				"def get_shape(dyf):\n",
				"    \"\"\"\n",
				"    Rturns the number of rows and columns of a dataframe\n",
				"    \"\"\"\n",
				"    return f\"rows: {dyf.count()}, columns: {len(dyf.columns)}\""
			]
		},
		{
			"cell_type": "code",
			"execution_count": 19,
			"metadata": {
				"tags": [],
				"trusted": true,
				"vscode": {
					"languageId": "python_glue_session"
				}
			},
			"outputs": [
				{
					"name": "stdout",
					"output_type": "stream",
					"text": [
						"Dubai: rows: 13560, columns: 52\n",
						"Los Angeles: rows: 12837, columns: 53\n",
						"London: rows: 43580, columns: 53\n",
						"Miami: rows: 10205, columns: 56\n",
						"New York City: rows: 40343, columns: 53\n",
						"San Francisco: rows: 3801, columns: 53\n",
						"Sydney: rows: 5938, columns: 53\n",
						"Tokyo: rows: 9661, columns: 53\n",
						"Toronto: rows: 5900, columns: 53\n"
					]
				}
			],
			"source": [
				"print(f\"Dubai: {get_shape(dubaiData_dyf)}\")\n",
				"print(f\"Los Angeles: {get_shape(losAngelesData_dyf)}\")\n",
				"print(f\"London: {get_shape(londonData_dyf)}\")\n",
				"print(f\"Miami: {get_shape(miamiData_dyf)}\")\n",
				"print(f\"New York City: {get_shape(newYorkCityData_dyf)}\")\n",
				"print(f\"San Francisco: {get_shape(sanFranciscoData_dyf)}\")\n",
				"print(f\"Sydney: {get_shape(sydneyData_dyf)}\")\n",
				"print(f\"Tokyo: {get_shape(tokyoData_dyf)}\")\n",
				"print(f\"Toronto: {get_shape(torontoData_dyf)}\")"
			]
		},
		{
			"cell_type": "code",
			"execution_count": 20,
			"metadata": {
				"trusted": true,
				"vscode": {
					"languageId": "python_glue_session"
				}
			},
			"outputs": [
				{
					"name": "stdout",
					"output_type": "stream",
					"text": [
						"{'cleaningFeeUSD', 'bathrooms', 'occupancyRateLTM', 'guestControls', 'listingType', 'zipcode', 'averageDailyRateNative', 'bedrooms', 'airbnbCleanlinessRating', 'listingURL', 'numberOfBookingsLTMObservedMonth', 'airbnbLocationRating', 'checkInTime', 'airbnbCommunicationRating', 'amenities', 'lastScrapedDate', 'hostListingCount', 'airbnbAccuracyRating', 'country', 'countavailableDaysLTM', 'checkoutTime', 'airbnbValueRating', 'exactLocation', 'maxGuests', 'createdDate', 'averageDailyRateUSD', 'cancellationPolicy', 'airbnbHostID', 'countBlockedDaysLTM', 'propertyType', 'airbnbSuperhost', 'annualRevenueLTMNative', 'listingTitle', 'latitude', 'numberofReviews', 'city', 'petsAllowed', 'minimumStay', 'numberOfBookingsLTM', 'annualRevenueLTMUSD', 'extraPeopleFeeUSD', 'extraPeopleFeeNative', 'currencyNative', 'airbnbPropertyID', 'license', 'pictureUrl', 'longitude', 'airbnbCheckinRating', 'overallRating', 'instantbookEnabled', 'countReservationDaysLTM', 'instantBookable'} \n",
						" Number of columns in common: 52\n"
					]
				}
			],
			"source": [
				"# Find common columns across all the dataframes \n",
				"unique_columns = set(miamiData_dyf.columns).intersection(\n",
				"    set(dubaiData_dyf.columns), \n",
				"    set(losAngelesData_dyf.columns),\n",
				"    set(londonData_dyf.columns),\n",
				"    set(newYorkCityData_dyf.columns),\n",
				"    set(sanFranciscoData_dyf.columns),\n",
				"    set(sydneyData_dyf.columns),\n",
				"    set(tokyoData_dyf.columns),\n",
				"    set(torontoData_dyf.columns)\n",
				")\n",
				"print(f'{unique_columns} \\n Number of columns in common: {len(unique_columns)}')"
			]
		},
		{
			"cell_type": "code",
			"execution_count": 21,
			"metadata": {
				"trusted": true,
				"vscode": {
					"languageId": "python_glue_session"
				}
			},
			"outputs": [
				{
					"name": "stdout",
					"output_type": "stream",
					"text": [
						"miami_dubai_column_differences: {'state', 'neighbourhood', \"metropolitan_statistical_area'\", 'last_host_count_updated_date'}\n"
					]
				}
			],
			"source": [
				"# Find the column differences in comparison to miami dynamic frame with thighest number of columns\n",
				"print(f\"miami_dubai_column_differences: {set(miamiData_dyf.columns).difference(set(dubaiData_dyf.columns))}\")"
			]
		},
		{
			"cell_type": "code",
			"execution_count": 22,
			"metadata": {
				"tags": [],
				"trusted": true,
				"vscode": {
					"languageId": "python_glue_session"
				}
			},
			"outputs": [
				{
					"name": "stdout",
					"output_type": "stream",
					"text": [
						"miami_toronto_column_differences: {'neighbourhood', \"metropolitan_statistical_area'\", 'last_host_count_updated_date'}\n"
					]
				}
			],
			"source": [
				"# Find the column differences in comparison to miami dynamic frame with highest number of columns\n",
				"print(f\"miami_toronto_column_differences: {set(miamiData_dyf.columns).difference(set(torontoData_dyf.columns))}\")"
			]
		},
		{
			"cell_type": "code",
			"execution_count": 23,
			"metadata": {
				"tags": [],
				"trusted": true,
				"vscode": {
					"languageId": "python_glue_session"
				}
			},
			"outputs": [
				{
					"name": "stdout",
					"output_type": "stream",
					"text": [
						"miami_la_column_differences: {'neighbourhood', \"metropolitan_statistical_area'\", 'last_host_count_updated_date'}\n"
					]
				}
			],
			"source": [
				"# Find the column differences in comparison to miami dynamic frame with thighest number of columns\n",
				"print(f\"miami_la_column_differences: {set(miamiData_dyf.columns).difference(set(losAngelesData_dyf.columns))}\")"
			]
		},
		{
			"cell_type": "code",
			"execution_count": 24,
			"metadata": {
				"tags": [],
				"trusted": true,
				"vscode": {
					"languageId": "python_glue_session"
				}
			},
			"outputs": [
				{
					"name": "stdout",
					"output_type": "stream",
					"text": [
						"miami_london_column_differences: {'neighbourhood', \"metropolitan_statistical_area'\", 'last_host_count_updated_date'}\n"
					]
				}
			],
			"source": [
				"print(f\"miami_london_column_differences: {set(miamiData_dyf.columns).difference(set(londonData_dyf.columns))}\")"
			]
		},
		{
			"cell_type": "code",
			"execution_count": 25,
			"metadata": {
				"tags": [],
				"trusted": true,
				"vscode": {
					"languageId": "python_glue_session"
				}
			},
			"outputs": [
				{
					"name": "stdout",
					"output_type": "stream",
					"text": [
						"miami_nyc_column_differences: {'neighbourhood', \"metropolitan_statistical_area'\", 'last_host_count_updated_date'}\n"
					]
				}
			],
			"source": [
				"print(f\"miami_nyc_column_differences: {set(miamiData_dyf.columns).difference(set(newYorkCityData_dyf.columns))}\")"
			]
		},
		{
			"cell_type": "code",
			"execution_count": 26,
			"metadata": {
				"tags": [],
				"trusted": true,
				"vscode": {
					"languageId": "python_glue_session"
				}
			},
			"outputs": [
				{
					"name": "stdout",
					"output_type": "stream",
					"text": [
						"miami_sanfransisco_column_differences: {'neighbourhood', \"metropolitan_statistical_area'\", 'last_host_count_updated_date'}\n"
					]
				}
			],
			"source": [
				"print(f\"miami_sanfransisco_column_differences: {set(miamiData_dyf.columns).difference(set(sanFranciscoData_dyf.columns))}\")"
			]
		},
		{
			"cell_type": "code",
			"execution_count": 27,
			"metadata": {
				"tags": [],
				"trusted": true,
				"vscode": {
					"languageId": "python_glue_session"
				}
			},
			"outputs": [
				{
					"name": "stdout",
					"output_type": "stream",
					"text": [
						"miami_sydney_column_differences: {'neighbourhood', \"metropolitan_statistical_area'\", 'last_host_count_updated_date'}\n"
					]
				}
			],
			"source": [
				"print(f\"miami_sydney_column_differences: {set(miamiData_dyf.columns).difference(set(sydneyData_dyf.columns))}\")"
			]
		},
		{
			"cell_type": "code",
			"execution_count": 28,
			"metadata": {
				"tags": [],
				"trusted": true,
				"vscode": {
					"languageId": "python_glue_session"
				}
			},
			"outputs": [
				{
					"name": "stdout",
					"output_type": "stream",
					"text": [
						"miami_tokyo_column_differences: {'neighbourhood', \"metropolitan_statistical_area'\", 'last_host_count_updated_date'}\n"
					]
				}
			],
			"source": [
				"print(f\"miami_tokyo_column_differences: {set(miamiData_dyf.columns).difference(set(tokyoData_dyf.columns))}\")"
			]
		},
		{
			"cell_type": "code",
			"execution_count": 29,
			"metadata": {
				"trusted": true,
				"vscode": {
					"languageId": "python_glue_session"
				}
			},
			"outputs": [
				{
					"name": "stdout",
					"output_type": "stream",
					"text": [
						"\n"
					]
				}
			],
			"source": [
				"# Drop Neighbourhood, Last Host Count Updated Date,Metropolitan Statistical Area columns\n",
				"miamiData_dyf = miamiData_dyf.drop('Neighbourhood', 'Last Host Count Updated Date','Metropolitan Statistical Area')"
			]
		},
		{
			"cell_type": "code",
			"execution_count": 30,
			"metadata": {
				"trusted": true,
				"vscode": {
					"languageId": "python_glue_session"
				}
			},
			"outputs": [
				{
					"name": "stdout",
					"output_type": "stream",
					"text": [
						"\n"
					]
				}
			],
			"source": [
				"# Remove last scraped data from all the dataframes\n",
				"losAngelesData_dyf = losAngelesData_dyf.drop('Last Scraped Date')\n",
				"londonData_dyf = londonData_dyf.drop('Last Scraped Date')\n",
				"miamiData_dyf = miamiData_dyf.drop('Last Scraped Date')\n",
				"newYorkCityData_dyf = newYorkCityData_dyf.drop('Last Scraped Date')\n",
				"sanFranciscoData_dyf = sanFranciscoData_dyf.drop('Last Scraped Date')\n",
				"sydneyData_dyf = sydneyData_dyf.drop('Last Scraped Date')\n",
				"tokyoData_dyf = tokyoData_dyf.drop('Last Scraped Date')\n",
				"dubaiData_dyf = dubaiData_dyf.drop('Last Scraped Date')\n",
				"torontoData_dyf = torontoData_dyf.drop('Last Scraped Date')"
			]
		},
		{
			"cell_type": "code",
			"execution_count": 31,
			"metadata": {
				"trusted": true,
				"vscode": {
					"languageId": "python_glue_session"
				}
			},
			"outputs": [
				{
					"name": "stdout",
					"output_type": "stream",
					"text": [
						"\n"
					]
				}
			],
			"source": [
				"# Drop duplicates\n",
				"londonData_dyf = londonData_dyf.dropDuplicates()\n",
				"losAngelesData_dyf = losAngelesData_dyf.dropDuplicates()\n",
				"miamiData_dyf = miamiData_dyf.dropDuplicates()\n",
				"newYorkCityData_dyf = newYorkCityData_dyf.dropDuplicates()\n",
				"sanFranciscoData_dyf = sanFranciscoData_dyf.dropDuplicates()\n",
				"sydneyData_dyf = sydneyData_dyf.dropDuplicates()\n",
				"tokyoData_dyf = tokyoData_dyf.dropDuplicates()\n",
				"dubaiData_dyf = dubaiData_dyf.dropDuplicates()\n",
				"torontoData_dyf = torontoData_dyf.dropDuplicates()"
			]
		},
		{
			"cell_type": "code",
			"execution_count": 32,
			"metadata": {
				"trusted": true,
				"vscode": {
					"languageId": "python_glue_session"
				}
			},
			"outputs": [
				{
					"name": "stdout",
					"output_type": "stream",
					"text": [
						"\n"
					]
				}
			],
			"source": [
				"def fill_missing_values(dyf):\n",
				"    \"\"\"\n",
				"    This function fills missing values in the dataframe\n",
				"\n",
				"    Parameters:\n",
				"    dyf: The dataframe to fill missing values\n",
				"\n",
				"    Returns: The dataframe with missing values filled\n",
				"    \"\"\"\n",
				"    for col_name, dtype in dyf.dtypes:\n",
				"        if dtype in [\"string\"]:\n",
				"            dyf = dyf.fillna(\"NA\", subset=[col_name])\n",
				"        elif dtype in [\"float\"]:\n",
				"            dyf = dyf.fillna(0.0, subset=[col_name])\n",
				"        elif dtype in [\"int\"]:\n",
				"            dyf = dyf.fillna(0, subset=[col_name])\n",
				"        elif dtype in [\"date\"]:\n",
				"            dyf = dyf.fillna(\"NA\", subset=[col_name])\n",
				"        else:\n",
				"            continue\n",
				"    return dyf"
			]
		},
		{
			"cell_type": "code",
			"execution_count": 33,
			"metadata": {
				"tags": [],
				"trusted": true,
				"vscode": {
					"languageId": "python_glue_session"
				}
			},
			"outputs": [
				{
					"name": "stdout",
					"output_type": "stream",
					"text": [
						"\n"
					]
				}
			],
			"source": [
				"# create id columns in dataframes\n",
				"losAngelesData_dyf = fill_missing_values(losAngelesData_dyf)\n",
				"londonData_dyf = fill_missing_values(londonData_dyf)\n",
				"miamiData_dyf = fill_missing_values(miamiData_dyf)\n",
				"newYorkCityData_dyf = fill_missing_values(newYorkCityData_dyf)\n",
				"sanFranciscoData_dyf = fill_missing_values(sanFranciscoData_dyf)\n",
				"sydneyData_dyf = fill_missing_values(sydneyData_dyf)\n",
				"tokyoData_dyf = fill_missing_values(tokyoData_dyf)\n",
				"dubaiData_dyf = fill_missing_values(dubaiData_dyf)\n",
				"torontoData_dyf = fill_missing_values(torontoData_dyf)"
			]
		},
		{
			"cell_type": "code",
			"execution_count": 34,
			"metadata": {
				"trusted": true,
				"vscode": {
					"languageId": "python_glue_session"
				}
			},
			"outputs": [
				{
					"name": "stdout",
					"output_type": "stream",
					"text": [
						"\n"
					]
				}
			],
			"source": [
				"# Define emojis in unicodes \n",
				"emoji_patterns = re.compile(\"(?u)[\"\n",
				"        u\"\\U0001F600-\\U0001F64F\"  # emoticons\n",
				"        u\"\\U0001F300-\\U0001F5FF\"  # symbols & pictographs\n",
				"        u\"\\U0001F680-\\U0001F6FF\"  # transport & map symbols\n",
				"        u\"\\U0001F1E0-\\U0001F1FF\"  # flags (iOS)\n",
				"        u\"\\U00002700-\\U000027BF\"  # Dingbats\n",
				"        u\"\\U00002600-\\U000026FF\"  # Miscellaneous Symbols\n",
				"        u\"\\U00002B00-\\U00002BFF\"  # Miscellaneous Symbols and Arrows\n",
				"        u\"\\U0001F100-\\U0001F1FF\"  # Enclosed Alphanumeric Supplement\n",
				"        u\"\\U0001F200-\\U0001F2FF\"  # Enclosed Ideographic Supplement\n",
				"        u\"\\U0001F900-\\U0001F9FF\"  # Supplemental Symbols and Pictographs\n",
				"        u\" \\U000025A0-\\U000025FF\" # Geometric Shapes\n",
				"          +\"]\")"
			]
		},
		{
			"cell_type": "code",
			"execution_count": 35,
			"metadata": {
				"trusted": true,
				"vscode": {
					"languageId": "python_glue_session"
				}
			},
			"outputs": [
				{
					"name": "stdout",
					"output_type": "stream",
					"text": [
						"\n"
					]
				}
			],
			"source": [
				"def remove_emojis(text):\n",
				"    \"\"\"\n",
				"    This function removes emojis from text\n",
				"\n",
				"    Parameters:\n",
				"    text: The text to remove emojis from\n",
				"\n",
				"    Returns: The text with emojis removed\n",
				"    \"\"\"\n",
				"    if isinstance(text, str):\n",
				"        return emoji_patterns.sub(' ', text)\n",
				"    else:\n",
				"        return text"
			]
		},
		{
			"cell_type": "code",
			"execution_count": 36,
			"metadata": {
				"tags": [],
				"trusted": true,
				"vscode": {
					"languageId": "python_glue_session"
				}
			},
			"outputs": [
				{
					"name": "stdout",
					"output_type": "stream",
					"text": [
						"\n"
					]
				}
			],
			"source": [
				"# create a udyf for remove emoji\n",
				"remove_emoji_udf = F.udf(remove_emojis)"
			]
		},
		{
			"cell_type": "code",
			"execution_count": 37,
			"metadata": {
				"trusted": true,
				"vscode": {
					"languageId": "python_glue_session"
				}
			},
			"outputs": [
				{
					"name": "stdout",
					"output_type": "stream",
					"text": [
						"\n"
					]
				}
			],
			"source": [
				"# Function to remove emojis from all the dataframes\n",
				"def remove_emojis_from(dyf):\n",
				"    \"\"\"\n",
				"    This function removes emojis from all the columns in a dataframe\n",
				"\n",
				"    Parameters:\n",
				"    dyf: The dataframe to remove emojis from\n",
				"\n",
				"    Returns: The dataframe with emojis removed\n",
				"    \"\"\"\n",
				"    for col_name in dyf.columns:\n",
				"        dyf = dyf.withColumn(col_name, remove_emoji_udf(F.col(col_name)))\n",
				"    return dyf"
			]
		},
		{
			"cell_type": "code",
			"execution_count": 38,
			"metadata": {
				"trusted": true,
				"vscode": {
					"languageId": "python_glue_session"
				}
			},
			"outputs": [
				{
					"name": "stdout",
					"output_type": "stream",
					"text": [
						"\n"
					]
				}
			],
			"source": [
				"# Remove emojis from all the dataframes\n",
				"tokyoData_dyf = remove_emojis_from(tokyoData_dyf)\n",
				"dubaiData_dyf = remove_emojis_from(dubaiData_dyf)\n",
				"losAngelesData_dyf = remove_emojis_from(losAngelesData_dyf)\n",
				"londonData_dyf = remove_emojis_from(londonData_dyf)\n",
				"newYorkCityData_dyf = remove_emojis_from(newYorkCityData_dyf)\n",
				"sanFranciscoData_dyf = remove_emojis_from(sanFranciscoData_dyf)\n",
				"sydneyData_dyf = remove_emojis_from(sydneyData_dyf)\n",
				"torontoData_dyf = remove_emojis_from(torontoData_dyf)\n",
				"miamiData_dyf = remove_emojis_from(miamiData_dyf)"
			]
		},
		{
			"cell_type": "code",
			"execution_count": 40,
			"metadata": {
				"tags": [],
				"trusted": true,
				"vscode": {
					"languageId": "python_glue_session"
				}
			},
			"outputs": [
				{
					"name": "stdout",
					"output_type": "stream",
					"text": [
						"+--------------------+--------------------+------------+-----------+---------------+-------+-----+-------+------------------+--------------------+--------------------+--------------+----------------------+-------------------+-------------------+--------+------------------+--------------------+---------+-------------------------+------------+-----------+--------------------+------------+------------------+--------------------+-----------------+--------------------+--------------------+--------------+--------------------+---------------+--------------------+------------------+---------------------+-----------------------+---------------+------------+-----------------+------------------+-------------------+---------------+-------------+----------------+-----------+----------------+---------+-------------------+--------------------------------+-----------------------+-------------------+----------------------+\n",
						"|        listingTitle|        propertyType| listingType|createdDate|lastScrapedDate|country| city|zipcode|         longitude|       guestControls|airbnbLocationRating|currencyNative|averageDailyRateNative|averageDailyRateUSD|countBlockedDaysLTM|bedrooms|  airbnbPropertyID|         checkInTime|bathrooms|airbnbCommunicationRating|airbnbHostID|petsAllowed|extraPeopleFeeNative|     license|instantbookEnabled|           amenities|    overallRating|airbnbAccuracyRating|  cancellationPolicy|cleaningFeeUSD|          listingURL|instantBookable|          pictureUrl|          latitude|countavailableDaysLTM|countReservationDaysLTM|numberofReviews|checkoutTime|airbnbValueRating| extraPeopleFeeUSD|airbnbCheckinRating|airbnbSuperhost|exactLocation|hostListingCount|minimumStay|occupancyRateLTM|maxGuests|numberOfBookingsLTM|numberOfBookingsLTMObservedMonth|airbnbCleanlinessRating|annualRevenueLTMUSD|annualRevenueLTMNative|\n",
						"+--------------------+--------------------+------------+-----------+---------------+-------+-----+-------+------------------+--------------------+--------------------+--------------+----------------------+-------------------+-------------------+--------+------------------+--------------------+---------+-------------------------+------------+-----------+--------------------+------------+------------------+--------------------+-----------------+--------------------+--------------------+--------------+--------------------+---------------+--------------------+------------------+---------------------+-----------------------+---------------+------------+-----------------+------------------+-------------------+---------------+-------------+----------------+-----------+----------------+---------+-------------------+--------------------------------+-----------------------+-------------------+----------------------+\n",
						"|Durrani Homes-Mod...|        Entire condo| entire_home| 2023-07-31|     2024-01-10|     AE|Dubai|  25314|55.091461181640625|{\"allows_children...|                   9|           AED|                   0.0|                0.0|                178|       2|          52099235|       After 3:00 PM|        2|                       10|   329871146|      False|                 0.0|            |              True|['Kitchen', 'Wifi...|              5.0|                  10|strict_14_with_gr...|          52.0|http://airbnb.com...|              1|https://a0.muscac...|24.975370407104492|                    0|                      0|              4|    12:00 PM|                9|               0.0|                 10|              f|            f|              31|          1|              42|        5|                 26|                              23|                     10|            20673.0|         75869.8984375|\n",
						"|1 Bed Apt in 7 by...|  Entire rental unit| entire_home| 2023-09-12|     2024-01-10|     AE|Dubai|  25314| 55.09111404418945|{\"allows_children...|                   0|           AED|                   0.0|                0.0|                317|       1|965788214015100451|       After 3:00 PM|        2|                        0|   443351231|      False|                 0.0|            |             False|['Kitchen', 'Wifi...|              0.0|                   0|                    |           0.0|http://airbnb.com...|               |https://a0.muscac...|  24.9755916595459|                    0|                      0|              0|    11:00 AM|                0|               0.0|                  0|              f|            f|               0|          1|              60|        4|                  1|                               0|                      0|             2362.0|                8668.5|\n",
						"|Privat Villa in A...|        Entire villa| entire_home| 2023-07-31|     2024-01-10|     AE|Dubai|  25314|55.132591247558594|{\"allows_children...|                   8|           AED|                   0.0|                0.0|                102|       3|          48304483|   3:00 PM - 6:00 PM|        3|                        9|   355726564|       True|                 0.0|            |              True|['Kitchen', 'Wifi...|4.800000190734863|                   9|strict_14_with_gr...|           0.0|http://airbnb.com...|              1|https://a0.muscac...| 24.91390037536621|                    0|                      0|             24|    12:00 PM|                9|               0.0|                  9|              f|            f|               4|          7|              63|        6|                 12|                               9|                      9|            15078.0|        55336.30078125|\n",
						"|OFFER! 50% OFF! G...|  Entire rental unit| entire_home| 2023-07-31|     2024-01-10|     AE|Dubai|  25314|55.202999114990234|{\"allows_children...|                   9|           AED|                   0.0|                0.0|                334|       0|897722370677700267|       After 3:00 PM|        1|                       10|   167648591|      False|                 0.0|            |             False|['Kitchen', 'Wifi...|              5.0|                  10|                    |           0.0|http://airbnb.com...|               |https://a0.muscac...|24.948999404907227|                    0|                      0|              2|    11:00 AM|                9|               0.0|                 10|              t|            t|               0|          2|              27|        2|                  3|                               0|                     10|              218.0|     800.0999755859375|\n",
						"|BEAUTIFUL APARTME...|        Entire condo| entire_home| 2023-06-15|     2024-01-10|     AE|Dubai|  25314| 55.22298049926758|{\"allows_children...|                  10|           AED|                   0.0|                0.0|                152|       0|          51939764|       After 3:00 PM|        1|                        6|   161350886|      False|    99.9000015258789|  0521879077|             False|['Kitchen', 'Elev...|              3.0|                   8|strict_14_with_gr...|          54.0|http://airbnb.com...|              0|https://a0.muscac...|24.946430206298828|                    0|                      0|              1|    12:00 PM|                6|27.233299255371094|                 10|              f|            f|               1|          3|              25|        2|                  9|                               5|                      8|             4852.0|        17806.80078125|\n",
						"|Cozy modern studi...|        Entire condo| entire_home| 2023-07-31|     2024-01-10|     AE|Dubai|  25314|55.229339599609375|{\"allows_children...|                   9|           AED|                   0.0|                0.0|                336|       1|          53108889|2:00 PM - 2:00 AM...|        2|                       10|    88268205|      False|                 0.0|            |             False|['Kitchen', 'Wifi...|4.699999809265137|                   9|                    |           0.0|http://airbnb.com...|               |https://a0.muscac...| 24.95115089416504|                    0|                      0|             29|    11:00 AM|                9|               0.0|                 10|              f|            f|               0|          3|             100|        3|                  0|                              -3|                      9|             1218.0|      4470.10009765625|\n",
						"|Cheerful room in ...|Private room in home|private_room| 2023-07-31|     2024-01-10|     AE|Dubai|  25314| 55.37424087524414|{\"allows_children...|                  10|           AED|                   0.0|                0.0|                295|       3|782339075386428919|       After 3:00 PM|        2|                       10|   112150026|      False|                 0.0|            |             False|['Kitchen', 'Wifi...|              5.0|                  10|                    |           0.0|http://airbnb.com...|               |https://a0.muscac...| 24.98841094970703|                    0|                      0|              4|            |               10|               0.0|                 10|              f|            f|               0|          3|              33|        2|                  3|                               0|                     10|             1271.0|      4664.60009765625|\n",
						"|  Nazari Guest House|         Entire home| entire_home| 2023-07-31|     2024-01-10|     AE|Dubai|  25314| 55.37575912475586|{\"allows_children...|                  10|           AED|                   0.0|                0.0|                304|       3|809361272672840012|       After 2:00 PM|        3|                       10|   475952488|       True|                 0.0|            |             False|['Kitchen', 'Wifi...|              5.0|                  10|                    |           0.0|http://airbnb.com...|               |https://a0.muscac...|24.987089157104492|                    0|                      0|              2|    12:00 PM|               10|               0.0|                 10|              f|            f|               0|          2|             100|        8|                  0|                              -3|                     10|             6405.0|        23506.30078125|\n",
						"|Lavish Studio @ D...|  Entire rental unit| entire_home| 2023-09-12|     2024-01-10|     AE|Dubai|  25314| 55.39384841918945|{\"allows_children...|                   0|           AED|                   0.0|                0.0|                334|       1|943096132998734472|       After 3:00 PM|        1|                        0|   474084485|      False|                 0.0|            |             False|['Kitchen', 'Wifi...|              0.0|                   0|                    |           0.0|http://airbnb.com...|               |https://a0.muscac...|24.984668731689453|                    0|                      0|              0|            |                0|               0.0|                  0|              f|            f|               0|          1|               4|        2|                  1|                               0|                      0|              118.0|     433.1000061035156|\n",
						"|DH2 450 · Classy ...|        Entire villa| entire_home| 2023-07-31|     2024-01-10|     AE|  دبي|  25314| 55.39303970336914|{\"allows_children...|                  10|           AED|                   0.0|                0.0|                335|       3|777391442855545469|       After 3:00 PM|        4|                       10|   436002352|       True|                 0.0|AL-450-DD3KS|             False|['Indoor fireplac...|              5.0|                  10|                    |           0.0|http://airbnb.com...|               |https://a0.muscac...|24.994089126586914|                    0|                      0|              5|    11:00 AM|               10|               0.0|                 10|              f|            f|               0|          1|              64|        6|                  1|                              -2|                     10|             5894.0|               21631.0|\n",
						"+--------------------+--------------------+------------+-----------+---------------+-------+-----+-------+------------------+--------------------+--------------------+--------------+----------------------+-------------------+-------------------+--------+------------------+--------------------+---------+-------------------------+------------+-----------+--------------------+------------+------------------+--------------------+-----------------+--------------------+--------------------+--------------+--------------------+---------------+--------------------+------------------+---------------------+-----------------------+---------------+------------+-----------------+------------------+-------------------+---------------+-------------+----------------+-----------+----------------+---------+-------------------+--------------------------------+-----------------------+-------------------+----------------------+\n",
						"only showing top 10 rows\n"
					]
				}
			],
			"source": [
				"dubaiData_dyf.show(10)"
			]
		},
		{
			"cell_type": "code",
			"execution_count": 41,
			"metadata": {
				"trusted": true,
				"vscode": {
					"languageId": "python_glue_session"
				}
			},
			"outputs": [
				{
					"name": "stdout",
					"output_type": "stream",
					"text": [
						"\n"
					]
				}
			],
			"source": [
				"def standardised_columns(dyf, country, city= None, state=None, currency_native=None):\n",
				"    \"\"\"\n",
				"    This function standardises the columns in the dataframe\n",
				"\n",
				"    Parameters:\n",
				"    dyf: The dataframe to standardise columns\n",
				"    country: The country to add to the dataframe\n",
				"    city: The city to add to the dataframe\n",
				"    state: The state to add to the dataframe\n",
				"    currency_native: The currency native to add to the dataframe\n",
				"\n",
				"    Returns: The dataframe with standardised columns\n",
				"    \"\"\" \n",
				"    dyf = dyf.withColumn('Country', F.lit(country))\n",
				"    if city is not None:\n",
				"        dyf = dyf.withColumn('City', F.lit(city))\n",
				"    if state is not None:\n",
				"        dyf = dyf.withColumn('State', F.lit(state))\n",
				"    if currency_native is not None:\n",
				"        dyf = dyf.withColumn('Currency Native', F.lit(None))\n",
				"    return dyf"
			]
		},
		{
			"cell_type": "code",
			"execution_count": 42,
			"metadata": {
				"trusted": true,
				"vscode": {
					"languageId": "python_glue_session"
				}
			},
			"outputs": [
				{
					"name": "stdout",
					"output_type": "stream",
					"text": [
						"\n"
					]
				}
			],
			"source": [
				"# Standardise columns for all the dataframes\n",
				"standardised_columns(dyf=dubaiData_dyf, country = 'AE', city = 'Dubai', state = 'dubai', currency_native= 'AED' )\n",
				"standardised_columns(dyf=losAngelesData_dyf, country = 'US', state = 'Los Angeles', currency_native= 'USD')\n",
				"standardised_columns(dyf=londonData_dyf,  country = 'GB', state = 'UK',  currency_native= 'GBP')\n",
				"standardised_columns(dyf=miamiData_dyf, country = 'US',state = 'Florida',  currency_native= 'GBP' )\n",
				"standardised_columns(dyf=newYorkCityData_dyf, country = 'US',  currency_native= 'USD' )\n",
				"standardised_columns(dyf=sanFranciscoData_dyf,  country = 'US', state = 'California', city = 'San Francisco', currency_native= 'USD' )\n",
				"standardised_columns(dyf=sydneyData_dyf, country = 'AU', state = 'New South Wales', currency_native= 'AUD' )\n",
				"standardised_columns(dyf=tokyoData_dyf, country = 'JP', state = 'Tokyo', currency_native= 'JPY' )\n",
				"standardised_columns(dyf=torontoData_dyf,country = 'CA', state = 'Ontario', currency_native= 'CAD' )"
			]
		},
		{
			"cell_type": "code",
			"execution_count": 47,
			"metadata": {
				"trusted": true,
				"vscode": {
					"languageId": "python_glue_session"
				}
			},
			"outputs": [
				{
					"name": "stdout",
					"output_type": "stream",
					"text": [
						"\n"
					]
				}
			],
			"source": [
				"# create new ID columns for dimension tables\n",
				"def create_id_columns(dyf, dyf_name):\n",
				"  \"\"\"\n",
				"  This function creates new ID columns for the dataframe\n",
				"\n",
				"  Parameters:\n",
				"  dyf_name: The name of the dataframe\n",
				"  dyf: The dataframe to create new ID columns\n",
				"\n",
				"  Returns: The dataframe with new ID columns\n",
				"  \"\"\"\n",
				"\n",
				"  prefix = dyf_name[:3].upper()\n",
				"\n",
				"  dyf = dyf.withColumn(\"monotonically_increasing_id\", F.monotonically_increasing_id()+ 1)\n",
				"  window_spec = Window.orderBy(\"monotonically_increasing_id\")\n",
				"  dyf = dyf.withColumn(\"listingId\", F.concat_ws('', F.lit(prefix), F.lit('LIS' ), F.row_number().over(window_spec).cast(StringType())))\n",
				"  dyf = dyf.withColumn(\"amenitiesId\", F.concat_ws('', F.lit(prefix), F.lit('AMT'), F.row_number().over(window_spec).cast(StringType())))\n",
				"  dyf = dyf.withColumn(\"ratingId\", F.concat_ws('', F.lit(prefix), F.lit('RTE'), F.row_number().over(window_spec).cast(StringType())))\n",
				"  dyf = dyf.withColumn(\"bookingId\", F.concat_ws('', F.lit(prefix), F.lit('BKD'), F.row_number().over(window_spec).cast(StringType())))\n",
				"\n",
				"  dyf = dyf.drop('monotonically_increasing_id\"')\n",
				"\n",
				"  return dyf"
			]
		},
		{
			"cell_type": "code",
			"execution_count": 48,
			"metadata": {
				"trusted": true,
				"vscode": {
					"languageId": "python_glue_session"
				}
			},
			"outputs": [
				{
					"name": "stdout",
					"output_type": "stream",
					"text": [
						"\n"
					]
				}
			],
			"source": [
				"#create id columns in dyf dictionary\n",
				"dubaiData_dyf = create_id_columns(dubaiData_dyf, 'dubaiData_dyf')\n",
				"losAngelesData_dyf = create_id_columns(losAngelesData_dyf, 'losAngelesData_dyf')\n",
				"londonData_dyf = create_id_columns(londonData_dyf, 'londonData_dyf')\n",
				"miamiData_dyf = create_id_columns(miamiData_dyf, 'miamiData_dyf')\n",
				"newYorkCityData_dyf = create_id_columns(newYorkCityData_dyf, 'newYorkCityData_dyf')\n",
				"sanFranciscoData_dyf = create_id_columns(sanFranciscoData_dyf, 'sanFranciscoData_dyf')\n",
				"sydneyData_dyf = create_id_columns(sydneyData_dyf, 'sydneyData_dyf')\n",
				"tokyoData_dyf = create_id_columns(tokyoData_dyf, 'tokyoData_dyf')\n",
				"torontoData_dyf = create_id_columns(torontoData_dyf, 'torontoData_dyf')"
			]
		},
		{
			"cell_type": "code",
			"execution_count": 49,
			"metadata": {
				"tags": [],
				"trusted": true,
				"vscode": {
					"languageId": "python_glue_session"
				}
			},
			"outputs": [
				{
					"name": "stdout",
					"output_type": "stream",
					"text": [
						"+---------+\n",
						"|listingId|\n",
						"+---------+\n",
						"|  TORLIS1|\n",
						"|  TORLIS2|\n",
						"|  TORLIS3|\n",
						"|  TORLIS4|\n",
						"|  TORLIS5|\n",
						"|  TORLIS6|\n",
						"|  TORLIS7|\n",
						"|  TORLIS8|\n",
						"|  TORLIS9|\n",
						"| TORLIS10|\n",
						"| TORLIS11|\n",
						"| TORLIS12|\n",
						"| TORLIS13|\n",
						"| TORLIS14|\n",
						"| TORLIS15|\n",
						"| TORLIS16|\n",
						"| TORLIS17|\n",
						"| TORLIS18|\n",
						"| TORLIS19|\n",
						"| TORLIS20|\n",
						"+---------+\n",
						"only showing top 20 rows\n"
					]
				}
			],
			"source": [
				"# show the first 10 rows of the torontoData_dyf\n",
				"torontoData_dyf.select('listingId').show()"
			]
		},
		{
			"cell_type": "code",
			"execution_count": 50,
			"metadata": {
				"trusted": true,
				"vscode": {
					"languageId": "python_glue_session"
				}
			},
			"outputs": [
				{
					"name": "stdout",
					"output_type": "stream",
					"text": [
						"\n"
					]
				}
			],
			"source": [
				"#create lisiting dimension table\n",
				"listing_dim = (dubaiData_dyf\n",
				"            .select('listingId','listingTitle', 'propertyType', 'listingType', 'listingURL', 'createdDate', 'currencyNative')\n",
				"            .union(losAngelesData_dyf.select('listingId','listingTitle', 'propertyType', 'listingType', 'listingURL', 'createdDate', 'currencyNative'))\n",
				"            .union(londonData_dyf.select('listingId','listingTitle', 'propertyType', 'listingType', 'listingURL', 'createdDate', 'currencyNative'))\n",
				"            .union(miamiData_dyf.select('listingId','listingTitle', 'propertyType', 'listingType', 'listingURL', 'createdDate', 'currencyNative'))\n",
				"            .union(newYorkCityData_dyf.select('listingId','listingTitle', 'propertyType', 'listingType', 'listingURL', 'createdDate', 'currencyNative'))\n",
				"            .union(sanFranciscoData_dyf.select('listingId','listingTitle', 'propertyType', 'listingType', 'listingURL', 'createdDate', 'currencyNative'))\n",
				"            .union(sydneyData_dyf.select('listingId','listingTitle', 'propertyType', 'listingType', 'listingURL', 'createdDate', 'currencyNative'))\n",
				"            .union(tokyoData_dyf.select('listingId','listingTitle', 'propertyType', 'listingType', 'listingURL', 'createdDate', 'currencyNative'))\n",
				"            .union(torontoData_dyf.select('listingId','listingTitle', 'propertyType', 'listingType', 'listingURL', 'createdDate', 'currencyNative')))\n"
			]
		},
		{
			"cell_type": "code",
			"execution_count": 52,
			"metadata": {
				"tags": [],
				"trusted": true,
				"vscode": {
					"languageId": "python_glue_session"
				}
			},
			"outputs": [
				{
					"name": "stdout",
					"output_type": "stream",
					"text": [
						"+---------+--------------------+------------------+-----------+--------------------+-----------+--------------+\n",
						"|listingId|        listingTitle|      propertyType|listingType|          listingURL|createdDate|currencyNative|\n",
						"+---------+--------------------+------------------+-----------+--------------------+-----------+--------------+\n",
						"|  DUBLIS1|Durrani Homes-Mod...|      Entire condo|entire_home|http://airbnb.com...| 2023-07-31|           AED|\n",
						"|  DUBLIS2|1 Bed Apt in 7 by...|Entire rental unit|entire_home|http://airbnb.com...| 2023-09-12|           AED|\n",
						"|  DUBLIS3|Privat Villa in A...|      Entire villa|entire_home|http://airbnb.com...| 2023-07-31|           AED|\n",
						"|  DUBLIS4|OFFER! 50% OFF! G...|Entire rental unit|entire_home|http://airbnb.com...| 2023-07-31|           AED|\n",
						"|  DUBLIS5|BEAUTIFUL APARTME...|      Entire condo|entire_home|http://airbnb.com...| 2023-06-15|           AED|\n",
						"+---------+--------------------+------------------+-----------+--------------------+-----------+--------------+\n",
						"only showing top 5 rows\n"
					]
				}
			],
			"source": [
				"listing_dim.show(5)"
			]
		},
		{
			"cell_type": "code",
			"execution_count": 51,
			"metadata": {
				"trusted": true,
				"vscode": {
					"languageId": "python_glue_session"
				}
			},
			"outputs": [
				{
					"name": "stdout",
					"output_type": "stream",
					"text": [
						"\n"
					]
				}
			],
			"source": [
				"#create host dimension table\n",
				"host_dim = (dubaiData_dyf.select('airbnbHostID', 'hostListingCount')\n",
				"            .union(losAngelesData_dyf.select('airbnbHostID', 'hostListingCount'))\n",
				"            .union(londonData_dyf.select('airbnbHostID', 'hostListingCount'))\n",
				"            .union(miamiData_dyf.select('airbnbHostID', 'hostListingCount'))\n",
				"            .union(newYorkCityData_dyf.select('airbnbHostID', 'hostListingCount'))\n",
				"            .union(sanFranciscoData_dyf.select('airbnbHostID', 'hostListingCount'))\n",
				"            .union(sydneyData_dyf.select('airbnbHostID', 'hostListingCount'))\n",
				"            .union(tokyoData_dyf.select('airbnbHostID', 'hostListingCount'))\n",
				"            .union(torontoData_dyf.select('airbnbHostID', 'hostListingCount')))"
			]
		},
		{
			"cell_type": "code",
			"execution_count": 53,
			"metadata": {
				"tags": [],
				"trusted": true,
				"vscode": {
					"languageId": "python_glue_session"
				}
			},
			"outputs": [
				{
					"name": "stdout",
					"output_type": "stream",
					"text": [
						"+------------+----------------+\n",
						"|airbnbHostID|hostListingCount|\n",
						"+------------+----------------+\n",
						"|   329871146|              31|\n",
						"|   443351231|               0|\n",
						"|   355726564|               4|\n",
						"|   167648591|               0|\n",
						"|   161350886|               1|\n",
						"|    88268205|               0|\n",
						"|   112150026|               0|\n",
						"|   475952488|               0|\n",
						"|   474084485|               0|\n",
						"|   436002352|               0|\n",
						"|   419719406|               0|\n",
						"|   200755588|               0|\n",
						"|    45708270|              90|\n",
						"|   405760695|              97|\n",
						"|   462017709|               0|\n",
						"|   385187973|               3|\n",
						"|    57112103|               0|\n",
						"|   471216887|               0|\n",
						"|    50966510|             162|\n",
						"|   407804837|               0|\n",
						"+------------+----------------+\n",
						"only showing top 20 rows\n"
					]
				}
			],
			"source": [
				"host_dim.show()"
			]
		},
		{
			"cell_type": "code",
			"execution_count": 59,
			"metadata": {
				"trusted": true,
				"vscode": {
					"languageId": "python_glue_session"
				}
			},
			"outputs": [
				{
					"name": "stdout",
					"output_type": "stream",
					"text": [
						"\n"
					]
				}
			],
			"source": [
				"#create location dimension table\n",
				"location_dim = (londonData_dyf\n",
				"                .select('airbnbPropertyID', 'country', 'state', 'city', 'zipcode', 'latitude', 'longitude', 'exactLocation')\n",
				"                .union(losAngelesData_dyf.select('airbnbPropertyID', 'country', 'state', 'city', 'zipcode', 'latitude', 'longitude', 'exactLocation'))\n",
				"                .union(dubaiData_dyf.select('airbnbPropertyID', 'country', 'state', 'city', 'zipcode', 'latitude', 'longitude', 'exactLocation'))\n",
				"                .union(miamiData_dyf.select('airbnbPropertyID', 'country', 'state', 'city', 'zipcode', 'latitude', 'longitude', 'exactLocation'))\n",
				"                .union(newYorkCityData_dyf.select('airbnbPropertyID', 'country', 'state', 'city', 'zipcode', 'latitude', 'longitude', 'exactLocation'))\n",
				"                .union(sanFranciscoData_dyf.select('airbnbPropertyID', 'country', 'state', 'city', 'zipcode', 'latitude', 'longitude', 'exactLocation'))\n",
				"                .union(sydneyData_dyf.select('airbnbPropertyID', 'country', 'state', 'city', 'zipcode', 'latitude', 'longitude', 'exactLocation'))\n",
				"                .union(tokyoData_dyf.select('airbnbPropertyID', 'country', 'state', 'city', 'zipcode', 'latitude', 'longitude', 'exactLocation'))\n",
				"                .union(torontoData_dyf.select('airbnbPropertyID', 'country', 'state', 'city', 'zipcode', 'latitude', 'longitude', 'exactLocation')))"
			]
		},
		{
			"cell_type": "code",
			"execution_count": 60,
			"metadata": {
				"tags": [],
				"trusted": true,
				"vscode": {
					"languageId": "python_glue_session"
				}
			},
			"outputs": [
				{
					"name": "stdout",
					"output_type": "stream",
					"text": [
						"+------------------+-------+-----+--------------+-------+------------------+--------------------+-------------+\n",
						"|  airbnbPropertyID|country|state|          city|zipcode|          latitude|           longitude|exactLocation|\n",
						"+------------------+-------+-----+--------------+-------+------------------+--------------------+-------------+\n",
						"|769598008324805688|     GB|   UK|Greater London|  W1W 8| 51.51631164550781|-0.13911999762058258|            f|\n",
						"|          44111861|     GB|   UK|Greater London|  W1W 7| 51.51892852783203| -0.1401900053024292|            f|\n",
						"|          52087579|     GB|   UK|Greater London|  W1T 3|51.518558502197266|-0.14003999531269073|            f|\n",
						"|          26437915|     GB|   UK|Greater London|  W1T 1|  51.5177001953125| -0.1371999979019165|            f|\n",
						"|          47732474|     GB|   UK|Greater London|  W1T 1|   51.518310546875|-0.13720999658107758|            f|\n",
						"+------------------+-------+-----+--------------+-------+------------------+--------------------+-------------+\n",
						"only showing top 5 rows\n"
					]
				}
			],
			"source": [
				"location_dim.show(5)"
			]
		},
		{
			"cell_type": "code",
			"execution_count": 61,
			"metadata": {
				"trusted": true,
				"vscode": {
					"languageId": "python_glue_session"
				}
			},
			"outputs": [
				{
					"name": "stdout",
					"output_type": "stream",
					"text": [
						"\n"
					]
				}
			],
			"source": [
				"#create amenities dimension table\n",
				"amenities_dim = (dubaiData_dyf.select('amenitiesID', 'amenities')\n",
				"            .union(losAngelesData_dyf.select('amenitiesID', 'amenities'))\n",
				"            .union(londonData_dyf.select('amenitiesID', 'amenities'))\n",
				"            .union(miamiData_dyf.select('amenitiesID', 'amenities'))\n",
				"            .union(newYorkCityData_dyf.select('amenitiesID', 'amenities'))\n",
				"            .union(sanFranciscoData_dyf.select('amenitiesID', 'amenities'))\n",
				"            .union(sydneyData_dyf.select('amenitiesID', 'amenities'))\n",
				"            .union(tokyoData_dyf.select('amenitiesID', 'amenities'))\n",
				"               .union(torontoData_dyf.select('amenitiesID', 'amenities')))"
			]
		},
		{
			"cell_type": "code",
			"execution_count": 62,
			"metadata": {
				"tags": [],
				"trusted": true,
				"vscode": {
					"languageId": "python_glue_session"
				}
			},
			"outputs": [
				{
					"name": "stdout",
					"output_type": "stream",
					"text": [
						"+-----------+--------------------+\n",
						"|amenitiesID|           amenities|\n",
						"+-----------+--------------------+\n",
						"|    DUBAMT1|['Kitchen', 'Wifi...|\n",
						"|    DUBAMT2|['Kitchen', 'Wifi...|\n",
						"|    DUBAMT3|['Kitchen', 'Wifi...|\n",
						"|    DUBAMT4|['Kitchen', 'Wifi...|\n",
						"|    DUBAMT5|['Kitchen', 'Elev...|\n",
						"|    DUBAMT6|['Kitchen', 'Wifi...|\n",
						"|    DUBAMT7|['Kitchen', 'Wifi...|\n",
						"|    DUBAMT8|['Kitchen', 'Wifi...|\n",
						"|    DUBAMT9|['Kitchen', 'Wifi...|\n",
						"|   DUBAMT10|['Indoor fireplac...|\n",
						"|   DUBAMT11|['Indoor fireplac...|\n",
						"|   DUBAMT12|['Kitchen', 'Wifi...|\n",
						"|   DUBAMT13|['Kitchen', 'Wifi...|\n",
						"|   DUBAMT14|['Kitchen', 'Wifi...|\n",
						"|   DUBAMT15|['Kitchen', 'Wifi...|\n",
						"|   DUBAMT16|['Kitchen', 'Wifi...|\n",
						"|   DUBAMT17|['Kitchen', 'Wifi...|\n",
						"|   DUBAMT18|['Kitchen', 'Wifi...|\n",
						"|   DUBAMT19|['Kitchen', 'Wifi...|\n",
						"|   DUBAMT20|['Kitchen', 'Wifi...|\n",
						"+-----------+--------------------+\n",
						"only showing top 20 rows\n"
					]
				}
			],
			"source": [
				"amenities_dim.show()"
			]
		},
		{
			"cell_type": "code",
			"execution_count": 63,
			"metadata": {
				"trusted": true,
				"vscode": {
					"languageId": "python_glue_session"
				}
			},
			"outputs": [
				{
					"name": "stdout",
					"output_type": "stream",
					"text": [
						"\n"
					]
				}
			],
			"source": [
				"#create ratings dimension table\n",
				"rating_dim = (dubaiData_dyf.select('ratingID', 'overallRating', 'airbnbCommunicationRating',\n",
				"                   'airbnbAccuracyRating', 'airbnbCleanlinessRating', 'airbnbCheckinRating', 'airbnbLocationRating', 'airbnbValueRating')\n",
				"             .union(losAngelesData_dyf.select('ratingID', 'overallRating', 'airbnbCommunicationRating',\n",
				"                   'airbnbAccuracyRating', 'airbnbCleanlinessRating', 'airbnbCheckinRating', 'airbnbLocationRating', 'airbnbValueRating'))\n",
				"             .union(londonData_dyf.select('ratingID', 'overallRating', 'airbnbCommunicationRating',\n",
				"                   'airbnbAccuracyRating', 'airbnbCleanlinessRating', 'airbnbCheckinRating', 'airbnbLocationRating', 'airbnbValueRating'))\n",
				"             .union(miamiData_dyf.select('ratingID', 'overallRating', 'airbnbCommunicationRating',\n",
				"                   'airbnbAccuracyRating', 'airbnbCleanlinessRating', 'airbnbCheckinRating', 'airbnbLocationRating', 'airbnbValueRating'))\n",
				"             .union(newYorkCityData_dyf.select('ratingID', 'overallRating', 'airbnbCommunicationRating',\n",
				"                   'airbnbAccuracyRating', 'airbnbCleanlinessRating', 'airbnbCheckinRating', 'airbnbLocationRating', 'airbnbValueRating'))\n",
				"             .union(sanFranciscoData_dyf.select('ratingID', 'overallRating', 'airbnbCommunicationRating',\n",
				"                   'airbnbAccuracyRating', 'airbnbCleanlinessRating', 'airbnbCheckinRating', 'airbnbLocationRating', 'airbnbValueRating'))\n",
				"             .union(sydneyData_dyf.select('ratingID', 'overallRating', 'airbnbCommunicationRating',\n",
				"                   'airbnbAccuracyRating', 'airbnbCleanlinessRating', 'airbnbCheckinRating', 'airbnbLocationRating', 'airbnbValueRating'))\n",
				"             .union(tokyoData_dyf.select('ratingID', 'overallRating', 'airbnbCommunicationRating',\n",
				"                   'airbnbAccuracyRating', 'airbnbCleanlinessRating', 'airbnbCheckinRating', 'airbnbLocationRating', 'airbnbValueRating'))\n",
				"             .union(torontoData_dyf.select('ratingID', 'overallRating', 'airbnbCommunicationRating',\n",
				"                   'airbnbAccuracyRating', 'airbnbCleanlinessRating', 'airbnbCheckinRating', 'airbnbLocationRating', 'airbnbValueRating')))\n"
			]
		},
		{
			"cell_type": "code",
			"execution_count": 64,
			"metadata": {
				"tags": [],
				"trusted": true,
				"vscode": {
					"languageId": "python_glue_session"
				}
			},
			"outputs": [
				{
					"name": "stdout",
					"output_type": "stream",
					"text": [
						"+--------+-----------------+-------------------------+--------------------+-----------------------+-------------------+--------------------+-----------------+\n",
						"|ratingID|    overallRating|airbnbCommunicationRating|airbnbAccuracyRating|airbnbCleanlinessRating|airbnbCheckinRating|airbnbLocationRating|airbnbValueRating|\n",
						"+--------+-----------------+-------------------------+--------------------+-----------------------+-------------------+--------------------+-----------------+\n",
						"| DUBRTE1|              5.0|                       10|                  10|                     10|                 10|                   9|                9|\n",
						"| DUBRTE2|              0.0|                        0|                   0|                      0|                  0|                   0|                0|\n",
						"| DUBRTE3|4.800000190734863|                        9|                   9|                      9|                  9|                   8|                9|\n",
						"| DUBRTE4|              5.0|                       10|                  10|                     10|                 10|                   9|                9|\n",
						"| DUBRTE5|              3.0|                        6|                   8|                      8|                 10|                  10|                6|\n",
						"+--------+-----------------+-------------------------+--------------------+-----------------------+-------------------+--------------------+-----------------+\n",
						"only showing top 5 rows\n"
					]
				}
			],
			"source": [
				"rating_dim.show(5)"
			]
		},
		{
			"cell_type": "code",
			"execution_count": 65,
			"metadata": {
				"trusted": true,
				"vscode": {
					"languageId": "python_glue_session"
				}
			},
			"outputs": [
				{
					"name": "stdout",
					"output_type": "stream",
					"text": [
						"\n"
					]
				}
			],
			"source": [
				"#create booking dimension table\n",
				"booking_dim = (dubaiData_dyf\n",
				"               .select('bookingID', 'checkInTime', 'checkoutTime', 'minimumStay')\n",
				"               .union(losAngelesData_dyf.select('bookingID', 'checkInTime', 'checkoutTime', 'minimumStay'))\n",
				"               .union(londonData_dyf.select('bookingID', 'checkInTime', 'checkoutTime', 'minimumStay'))\n",
				"               .union(miamiData_dyf.select('bookingID', 'checkInTime', 'checkoutTime', 'minimumStay'))\n",
				"               .union(newYorkCityData_dyf.select('bookingID', 'checkInTime', 'checkoutTime', 'minimumStay'))\n",
				"               .union(sanFranciscoData_dyf.select('bookingID', 'checkInTime', 'checkoutTime', 'minimumStay'))\n",
				"               .union(sydneyData_dyf.select('bookingID', 'checkInTime', 'checkoutTime', 'minimumStay'))\n",
				"               .union(tokyoData_dyf.select('bookingID', 'checkInTime', 'checkoutTime', 'minimumStay'))\n",
				"               .union(torontoData_dyf.select('bookingID', 'checkInTime', 'checkoutTime', 'minimumStay')))"
			]
		},
		{
			"cell_type": "code",
			"execution_count": 66,
			"metadata": {
				"tags": [],
				"trusted": true,
				"vscode": {
					"languageId": "python_glue_session"
				}
			},
			"outputs": [
				{
					"name": "stdout",
					"output_type": "stream",
					"text": [
						"+---------+-----------------+------------+-----------+\n",
						"|bookingID|      checkInTime|checkoutTime|minimumStay|\n",
						"+---------+-----------------+------------+-----------+\n",
						"|  DUBBKD1|    After 3:00 PM|    12:00 PM|          1|\n",
						"|  DUBBKD2|    After 3:00 PM|    11:00 AM|          1|\n",
						"|  DUBBKD3|3:00 PM - 6:00 PM|    12:00 PM|          7|\n",
						"|  DUBBKD4|    After 3:00 PM|    11:00 AM|          2|\n",
						"|  DUBBKD5|    After 3:00 PM|    12:00 PM|          3|\n",
						"+---------+-----------------+------------+-----------+\n",
						"only showing top 5 rows\n"
					]
				}
			],
			"source": [
				"booking_dim.show(5)"
			]
		},
		{
			"cell_type": "code",
			"execution_count": 68,
			"metadata": {
				"trusted": true,
				"vscode": {
					"languageId": "python_glue_session"
				}
			},
			"outputs": [
				{
					"name": "stdout",
					"output_type": "stream",
					"text": [
						"\n"
					]
				}
			],
			"source": [
				"#create booking fact table\n",
				"booking_fact = (dubaiData_dyf.select('bookingID', 'listingID', 'airbnbHostID', 'airbnbPropertyID', 'amenitiesID',\n",
				"                        'ratingID', 'numberOfReviews', 'bedrooms', 'bathrooms', 'maxGuests', 'airbnbSuperhost',\n",
				"                        'cancellationPolicy', 'cleaningFeeUSD', 'extraPeopleFeeUSD',\n",
				"                        'extraPeopleFeeNative', 'instantBookable', 'petsAllowed', 'occupancyRateLTM',\n",
				"                        'numberOfBookingsLTM', 'numberOfBookingsLTMObservedMonth', 'averageDailyRateUSD') \n",
				"                 .union(losAngelesData_dyf.select('bookingID', 'listingID', 'airbnbHostID', 'airbnbPropertyID', 'amenitiesID',\n",
				"                        'ratingID', 'numberOfReviews', 'bedrooms', 'bathrooms', 'maxGuests', 'airbnbSuperhost',\n",
				"                        'cancellationPolicy', 'cleaningFeeUSD', 'extraPeopleFeeUSD',\n",
				"                        'extraPeopleFeeNative', 'instantBookable', 'petsAllowed', 'occupancyRateLTM',\n",
				"                        'numberOfBookingsLTM', 'numberOfBookingsLTMObservedMonth', 'averageDailyRateUSD'))\n",
				"                  .union(londonData_dyf.select('bookingID', 'listingID', 'airbnbHostID', 'airbnbPropertyID', 'amenitiesID',\n",
				"                        'ratingID', 'numberOfReviews', 'bedrooms', 'bathrooms', 'maxGuests', 'airbnbSuperhost',\n",
				"                        'cancellationPolicy', 'cleaningFeeUSD', 'extraPeopleFeeUSD',\n",
				"                        'extraPeopleFeeNative', 'instantBookable', 'petsAllowed', 'occupancyRateLTM',\n",
				"                        'numberOfBookingsLTM', 'numberOfBookingsLTMObservedMonth', 'averageDailyRateUSD'))\n",
				"                  .union(miamiData_dyf.select('bookingID', 'listingID', 'airbnbHostID', 'airbnbPropertyID', 'amenitiesID',\n",
				"                        'ratingID', 'numberOfReviews', 'bedrooms', 'bathrooms', 'maxGuests', 'airbnbSuperhost',\n",
				"                        'cancellationPolicy', 'cleaningFeeUSD', 'extraPeopleFeeUSD',\n",
				"                        'extraPeopleFeeNative', 'instantBookable', 'petsAllowed', 'occupancyRateLTM',\n",
				"                        'numberOfBookingsLTM', 'numberOfBookingsLTMObservedMonth', 'averageDailyRateUSD'))\n",
				"                  .union(newYorkCityData_dyf.select('bookingID', 'listingID', 'airbnbHostID', 'airbnbPropertyID', 'amenitiesID',\n",
				"                        'ratingID', 'numberOfReviews', 'bedrooms', 'bathrooms', 'maxGuests', 'airbnbSuperhost',\n",
				"                        'cancellationPolicy', 'cleaningFeeUSD', 'extraPeopleFeeUSD',\n",
				"                        'extraPeopleFeeNative', 'instantBookable', 'petsAllowed', 'occupancyRateLTM',\n",
				"                        'numberOfBookingsLTM', 'numberOfBookingsLTMObservedMonth', 'averageDailyRateUSD'))\n",
				"                  .union(sanFranciscoData_dyf.select('bookingID', 'listingID', 'airbnbHostID', 'airbnbPropertyID', 'amenitiesID',\n",
				"                        'ratingID', 'numberOfReviews', 'bedrooms', 'bathrooms', 'maxGuests', 'airbnbSuperhost',\n",
				"                        'cancellationPolicy', 'cleaningFeeUSD', 'extraPeopleFeeUSD',\n",
				"                        'extraPeopleFeeNative', 'instantBookable', 'petsAllowed', 'occupancyRateLTM',\n",
				"                        'numberOfBookingsLTM', 'numberOfBookingsLTMObservedMonth', 'averageDailyRateUSD'))\n",
				"                  .union(sydneyData_dyf.select('bookingID', 'listingID', 'airbnbHostID', 'airbnbPropertyID', 'amenitiesID',\n",
				"                        'ratingID', 'numberOfReviews', 'bedrooms', 'bathrooms', 'maxGuests', 'airbnbSuperhost',\n",
				"                        'cancellationPolicy', 'cleaningFeeUSD', 'extraPeopleFeeUSD',\n",
				"                        'extraPeopleFeeNative', 'instantBookable', 'petsAllowed', 'occupancyRateLTM',\n",
				"                        'numberOfBookingsLTM', 'numberOfBookingsLTMObservedMonth', 'averageDailyRateUSD'))\n",
				"                  .union(tokyoData_dyf.select('bookingID', 'listingID', 'airbnbHostID', 'airbnbPropertyID', 'amenitiesID',\n",
				"                        'ratingID', 'numberOfReviews', 'bedrooms', 'bathrooms', 'maxGuests', 'airbnbSuperhost',\n",
				"                        'cancellationPolicy', 'cleaningFeeUSD', 'extraPeopleFeeUSD',\n",
				"                        'extraPeopleFeeNative', 'instantBookable', 'petsAllowed', 'occupancyRateLTM',\n",
				"                        'numberOfBookingsLTM', 'numberOfBookingsLTMObservedMonth', 'averageDailyRateUSD'))\n",
				"                  .union(torontoData_dyf.select('bookingID', 'listingID', 'airbnbHostID', 'airbnbPropertyID', 'amenitiesID',\n",
				"                        'ratingID', 'numberOfReviews', 'bedrooms', 'bathrooms', 'maxGuests', 'airbnbSuperhost',\n",
				"                        'cancellationPolicy', 'cleaningFeeUSD', 'extraPeopleFeeUSD',\n",
				"                        'extraPeopleFeeNative', 'instantBookable', 'petsAllowed', 'occupancyRateLTM',\n",
				"                        'numberOfBookingsLTM', 'numberOfBookingsLTMObservedMonth', 'averageDailyRateUSD')))"
			]
		},
		{
			"cell_type": "code",
			"execution_count": 69,
			"metadata": {
				"tags": [],
				"trusted": true,
				"vscode": {
					"languageId": "python_glue_session"
				}
			},
			"outputs": [
				{
					"name": "stdout",
					"output_type": "stream",
					"text": [
						"+---------+---------+------------+------------------+-----------+--------+---------------+--------+---------+---------+---------------+--------------------+--------------+------------------+--------------------+---------------+-----------+----------------+-------------------+--------------------------------+-------------------+\n",
						"|bookingID|listingID|airbnbHostID|  airbnbPropertyID|amenitiesID|ratingID|numberOfReviews|bedrooms|bathrooms|maxGuests|airbnbSuperhost|  cancellationPolicy|cleaningFeeUSD| extraPeopleFeeUSD|extraPeopleFeeNative|instantBookable|petsAllowed|occupancyRateLTM|numberOfBookingsLTM|numberOfBookingsLTMObservedMonth|averageDailyRateUSD|\n",
						"+---------+---------+------------+------------------+-----------+--------+---------------+--------+---------+---------+---------------+--------------------+--------------+------------------+--------------------+---------------+-----------+----------------+-------------------+--------------------------------+-------------------+\n",
						"|  DUBBKD1|  DUBLIS1|   329871146|          52099235|    DUBAMT1| DUBRTE1|              4|       2|        2|        5|              f|strict_14_with_gr...|          52.0|               0.0|                 0.0|              1|      False|              42|                 26|                              23|                0.0|\n",
						"|  DUBBKD2|  DUBLIS2|   443351231|965788214015100451|    DUBAMT2| DUBRTE2|              0|       1|        2|        4|              f|                    |           0.0|               0.0|                 0.0|               |      False|              60|                  1|                               0|                0.0|\n",
						"|  DUBBKD3|  DUBLIS3|   355726564|          48304483|    DUBAMT3| DUBRTE3|             24|       3|        3|        6|              f|strict_14_with_gr...|           0.0|               0.0|                 0.0|              1|       True|              63|                 12|                               9|                0.0|\n",
						"|  DUBBKD4|  DUBLIS4|   167648591|897722370677700267|    DUBAMT4| DUBRTE4|              2|       0|        1|        2|              t|                    |           0.0|               0.0|                 0.0|               |      False|              27|                  3|                               0|                0.0|\n",
						"|  DUBBKD5|  DUBLIS5|   161350886|          51939764|    DUBAMT5| DUBRTE5|              1|       0|        1|        2|              f|strict_14_with_gr...|          54.0|27.233299255371094|    99.9000015258789|              0|      False|              25|                  9|                               5|                0.0|\n",
						"+---------+---------+------------+------------------+-----------+--------+---------------+--------+---------+---------+---------------+--------------------+--------------+------------------+--------------------+---------------+-----------+----------------+-------------------+--------------------------------+-------------------+\n",
						"only showing top 5 rows\n"
					]
				}
			],
			"source": [
				"booking_fact.show(5)"
			]
		},
		{
			"cell_type": "code",
			"execution_count": 70,
			"metadata": {
				"tags": [],
				"trusted": true,
				"vscode": {
					"languageId": "python_glue_session"
				}
			},
			"outputs": [
				{
					"name": "stdout",
					"output_type": "stream",
					"text": [
						"\n"
					]
				}
			],
			"source": [
				"#convert spark dataframe to dynamicframe\n",
				"listing_dim_dyf = DynamicFrame.fromDF(listing_dim, glueContext, 'dynamic_frame')\n",
				"location_dim_dyf = DynamicFrame.fromDF(location_dim, glueContext, 'dynamic_frame')\n",
				"host_dim_dyf = DynamicFrame.fromDF(host_dim, glueContext, 'dynamic_frame')\n",
				"amenities_dim_dyf = DynamicFrame.fromDF(amenities_dim, glueContext, 'dynamic_frame')\n",
				"rating_dim_dyf = DynamicFrame.fromDF(rating_dim, glueContext, 'dynamic_frame')\n",
				"booking_dim_dyf = DynamicFrame.fromDF(booking_dim, glueContext, 'dynamic_frame')\n",
				"booking_fact_dyf = DynamicFrame.fromDF(booking_fact, glueContext, 'dynamic_frame')"
			]
		},
		{
			"cell_type": "code",
			"execution_count": 80,
			"metadata": {
				"tags": [],
				"trusted": true,
				"vscode": {
					"languageId": "python_glue_session"
				}
			},
			"outputs": [
				{
					"name": "stdout",
					"output_type": "stream",
					"text": [
						"\n"
					]
				}
			],
			"source": [
				"#write dynamicframes to s3\n",
				"def write_to_s3(dyf, dyf_name):\n",
				"    \"\"\"\n",
				"    This function writes a dynamic frame to s3\n",
				"  \n",
				"    Parameters:\n",
				"    dyf: The dynamic frame to write to s3\n",
				"    dyf_name: The name of the dynamic frame\n",
				"    \n",
				"    Returns: None\n",
				"    \"\"\"\n",
				"    sink = glueContext.getSink(\n",
				"                path=f\"s3://airbnb-listings-data/transformed-data/{dyf_name}.csv\",\n",
				"                connection_type=\"s3\",\n",
				"                updateBehavior=\"UPDATE_IN_DATABASE\",\n",
				"                partitionKeys=[],\n",
				"                compression=\"gzip\",\n",
				"                enableUpdateCatalog=True,\n",
				"                transformation_ctx=f\"{dyf_name}_csv_sink\")\n",
				"    sink.setCatalogInfo(\n",
				"                        catalogDatabase=\"airbnb_catalog_db\",\n",
				"                        catalogTableName=f\"{dyf_name}_csv\")\n",
				"    sink.setFormat(\"csv\")\n",
				"    sink.writeFrame(dyf)\n",
				"    print(f\"Data written to {dyf_name}\")"
			]
		},
		{
			"cell_type": "code",
			"execution_count": 81,
			"metadata": {
				"tags": [],
				"trusted": true,
				"vscode": {
					"languageId": "python_glue_session"
				}
			},
			"outputs": [
				{
					"name": "stdout",
					"output_type": "stream",
					"text": [
						"Data written to listing-dim\n",
						"Data written to location-dim\n",
						"Data written to host-dim\n",
						"Data written to amenities-dim\n",
						"Data written to rating-dim\n",
						"Data written to booking-dim\n",
						"Data written to booking-fact\n"
					]
				}
			],
			"source": [
				"# write all the dynamicframes to s3\n",
				"write_to_s3(listing_dim_dyf, 'listing-dim')\n",
				"write_to_s3(location_dim_dyf, 'location-dim')\n",
				"write_to_s3(host_dim_dyf, 'host-dim')\n",
				"write_to_s3(amenities_dim_dyf, 'amenities-dim')\n",
				"write_to_s3(rating_dim_dyf, 'rating-dim')\n",
				"write_to_s3(booking_dim_dyf, 'booking-dim')\n",
				"write_to_s3(booking_fact_dyf, 'booking-fact')"
			]
		},
		{
			"cell_type": "code",
			"execution_count": 82,
			"metadata": {
				"tags": [],
				"trusted": true,
				"vscode": {
					"languageId": "python_glue_session"
				}
			},
			"outputs": [
				{
					"name": "stdout",
					"output_type": "stream",
					"text": [
						"\n"
					]
				}
			],
			"source": [
				"spark.stop()"
			]
		}
	],
	"metadata": {
		"kernelspec": {
			"display_name": "Glue PySpark",
			"language": "python",
			"name": "glue_pyspark"
		},
		"language_info": {
			"codemirror_mode": {
				"name": "python",
				"version": 3
			},
			"file_extension": ".py",
			"mimetype": "text/x-python",
			"name": "Python_Glue_Session",
			"pygments_lexer": "python3"
		}
	},
	"nbformat": 4,
	"nbformat_minor": 4
}
